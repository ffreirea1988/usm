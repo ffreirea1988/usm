{
  "nbformat": 4,
  "nbformat_minor": 0,
  "metadata": {
    "colab": {
      "provenance": [],
      "authorship_tag": "ABX9TyNdn2nEa1ZcPtYwthgrwN1a",
      "include_colab_link": true
    },
    "kernelspec": {
      "name": "python3",
      "display_name": "Python 3"
    },
    "language_info": {
      "name": "python"
    }
  },
  "cells": [
    {
      "cell_type": "markdown",
      "metadata": {
        "id": "view-in-github",
        "colab_type": "text"
      },
      "source": [
        "<a href=\"https://colab.research.google.com/github/ffreirea1988/usm/blob/main/Pauta_Certamen_1.ipynb\" target=\"_parent\"><img src=\"https://colab.research.google.com/assets/colab-badge.svg\" alt=\"Open In Colab\"/></a>"
      ]
    },
    {
      "cell_type": "markdown",
      "source": [
        "# **Certamen 1** - Análisis de Negocios\n",
        "La empresa Banking_SA está pensando en generar una campaña para contactar a sus clientes y ofrecerles un nuevo seguro asociado a sus productos. Para esto, el Gerente de Analytics ha indicado que para ahorrar presupuesto, su área puede modelar quiénes son los clientes que mayor probabilidad tienen de contratar este nuevo producto. Para eso, le ha pedido a usted, como Analista de Business Analytics que genere un modelo de predicción basado en los datos de la última campaña realizada por el área de Customer Experience (CX).\n",
        "\n",
        "En aquel entonces, se realizó un modelo de estimación del sueldo de los clientes, ya que la empresa no contaba con esa información, por lo que le indican a usted que esa variable debe ser considerada dentro de su modelo de clasificación, generando un nuevo modelo de regresión del salario de los usuarios a partir de los datos.\n",
        "Además, se menciona que de esa última campaña, algunos clientes han fallecido, por lo que el sistema ha dejado de manera automática a estos con una edad de -1.\n",
        "\n",
        "A partir del set de datos \"Data_Banking_SA\", se le pide lo siguiente:\n"
      ],
      "metadata": {
        "id": "38StBRWpFSaa"
      }
    },
    {
      "cell_type": "markdown",
      "source": [
        "# 1. Realice un análisis exploratorio de los datos:"
      ],
      "metadata": {
        "id": "WKy7CihgKmO-"
      }
    },
    {
      "cell_type": "code",
      "execution_count": 36,
      "metadata": {
        "id": "sybpuPuzFDZt"
      },
      "outputs": [],
      "source": [
        "#Importar librerias (1 pto)\n",
        "import pandas as pd\n",
        "import matplotlib.pyplot as plt\n",
        "import seaborn as sns\n",
        "import numpy as np\n",
        "import warnings\n",
        "warnings.filterwarnings('ignore')"
      ]
    },
    {
      "cell_type": "code",
      "source": [
        "#Leer archivo (1 pto)\n",
        "df = pd.read_csv('/content/Data_Banking_SA.csv')"
      ],
      "metadata": {
        "id": "F5naPiI_fCdL"
      },
      "execution_count": 37,
      "outputs": []
    },
    {
      "cell_type": "markdown",
      "source": [
        "#####1.a) ¿Cuántas filas y columnas tiene el set de datos?"
      ],
      "metadata": {
        "id": "GGvJStGHkrIs"
      }
    },
    {
      "cell_type": "code",
      "source": [
        "# Cantidad filas y columnas (2 ptos)\n",
        "print('Respuesta 1.a) y 1.b):')\n",
        "print('(Cantidad de Filas, Cantidad de columnas) = ',df.shape)"
      ],
      "metadata": {
        "colab": {
          "base_uri": "https://localhost:8080/"
        },
        "id": "eJtwnPnthzuJ",
        "outputId": "f08f25ff-0ac8-4769-9f92-636d5ba07693"
      },
      "execution_count": 38,
      "outputs": [
        {
          "output_type": "stream",
          "name": "stdout",
          "text": [
            "Respuesta 1.a) y 1.b):\n",
            "(Cantidad de Filas, Cantidad de columnas) =  (10000, 12)\n"
          ]
        }
      ]
    },
    {
      "cell_type": "markdown",
      "source": [
        "#####1.b) ¿Qué tipo de dato es cada columna?"
      ],
      "metadata": {
        "id": "oL1dZa-5kSi6"
      }
    },
    {
      "cell_type": "code",
      "source": [
        "#Tipo de datos (1 pto)\n",
        "print('Respuesta 1.b):')\n",
        "print(df.dtypes)"
      ],
      "metadata": {
        "colab": {
          "base_uri": "https://localhost:8080/"
        },
        "id": "NHswQ7cXi44J",
        "outputId": "6624d4f7-bf24-411c-8911-071d76b191fe"
      },
      "execution_count": 39,
      "outputs": [
        {
          "output_type": "stream",
          "name": "stdout",
          "text": [
            "Respuesta 1.b):\n",
            "Nro_Fila                int64\n",
            "ID_Cliente              int64\n",
            "Cupo_CLP                int64\n",
            "Ciudad                 object\n",
            "Sexo                   object\n",
            "Edad                    int64\n",
            "Nivel_Educacional       int64\n",
            "Cantidad_Productos      int64\n",
            "Posee_Tarjeta          object\n",
            "Posee_Propiedad        object\n",
            "Sueldo_Estimado_CLP     int64\n",
            "Contrato_Seguro        object\n",
            "dtype: object\n"
          ]
        }
      ]
    },
    {
      "cell_type": "markdown",
      "source": [
        "#####1.c) ¿Cuántos datos únicos hay por cada variable?"
      ],
      "metadata": {
        "id": "8ZdZQy_VkVag"
      }
    },
    {
      "cell_type": "code",
      "source": [
        "#Datos únicos\n",
        "print('Respuesta 1.c):')\n",
        "df.nunique()"
      ],
      "metadata": {
        "colab": {
          "base_uri": "https://localhost:8080/"
        },
        "id": "HC_rtnOflHxD",
        "outputId": "06a95f73-cfe7-4ef0-f6ef-906882aa9945"
      },
      "execution_count": 40,
      "outputs": [
        {
          "output_type": "stream",
          "name": "stdout",
          "text": [
            "Respuesta 1.c):\n"
          ]
        },
        {
          "output_type": "execute_result",
          "data": {
            "text/plain": [
              "Nro_Fila               10000\n",
              "ID_Cliente             10000\n",
              "Cupo_CLP                 460\n",
              "Ciudad                    17\n",
              "Sexo                       2\n",
              "Edad                      54\n",
              "Nivel_Educacional          5\n",
              "Cantidad_Productos         4\n",
              "Posee_Tarjeta              2\n",
              "Posee_Propiedad            2\n",
              "Sueldo_Estimado_CLP     9966\n",
              "Contrato_Seguro            2\n",
              "dtype: int64"
            ]
          },
          "metadata": {},
          "execution_count": 40
        }
      ]
    },
    {
      "cell_type": "markdown",
      "source": [
        "#####1.d) ¿Hay datos faltantes?"
      ],
      "metadata": {
        "id": "Jh_JENEgkXrr"
      }
    },
    {
      "cell_type": "code",
      "source": [
        "#Datos faltantes\n",
        "print('Respuesta 1.d):')\n",
        "df.isnull().sum()"
      ],
      "metadata": {
        "colab": {
          "base_uri": "https://localhost:8080/"
        },
        "id": "h1fiHNR5iS7e",
        "outputId": "f06a6216-a99b-4a70-be8d-f5464b68e6bb"
      },
      "execution_count": 41,
      "outputs": [
        {
          "output_type": "stream",
          "name": "stdout",
          "text": [
            "Respuesta 1.d):\n"
          ]
        },
        {
          "output_type": "execute_result",
          "data": {
            "text/plain": [
              "Nro_Fila               0\n",
              "ID_Cliente             0\n",
              "Cupo_CLP               0\n",
              "Ciudad                 0\n",
              "Sexo                   0\n",
              "Edad                   0\n",
              "Nivel_Educacional      0\n",
              "Cantidad_Productos     0\n",
              "Posee_Tarjeta          0\n",
              "Posee_Propiedad        0\n",
              "Sueldo_Estimado_CLP    0\n",
              "Contrato_Seguro        0\n",
              "dtype: int64"
            ]
          },
          "metadata": {},
          "execution_count": 41
        }
      ]
    },
    {
      "cell_type": "markdown",
      "source": [
        "#####1.e) Muestre las primeras 10 filas del set de datos"
      ],
      "metadata": {
        "id": "E6DLYZGVnWOr"
      }
    },
    {
      "cell_type": "code",
      "source": [
        "#Primeras 10 filas\n",
        "print('Respuesta 1.e):')\n",
        "df.head(10)"
      ],
      "metadata": {
        "colab": {
          "base_uri": "https://localhost:8080/",
          "height": 381
        },
        "id": "76gweg4Wnf5r",
        "outputId": "a6f79a39-3d00-4ec1-f6d5-8457e3429273"
      },
      "execution_count": 42,
      "outputs": [
        {
          "output_type": "stream",
          "name": "stdout",
          "text": [
            "Respuesta 1.e):\n"
          ]
        },
        {
          "output_type": "execute_result",
          "data": {
            "text/plain": [
              "   Nro_Fila  ID_Cliente  Cupo_CLP Ciudad    Sexo  Edad  Nivel_Educacional  \\\n",
              "0         1    15634602   3714000  Arica  Hombre    42                  2   \n",
              "1         2    15647311   3648000  Arica  Hombre    41                  1   \n",
              "2         3    15619304   3012000  Arica  Hombre    -1                  3   \n",
              "3         4    15701354   4194000  Arica  Hombre    39                  1   \n",
              "4         5    15737888   5100000  Arica  Hombre    43                  2   \n",
              "5         6    15574012   3870000  Arica   Mujer    44                  3   \n",
              "6         7    15592531   4932000  Arica   Mujer    50                  4   \n",
              "7         8    15656148   2256000  Arica  Hombre    29                  4   \n",
              "8         9    15792365   3006000  Arica   Mujer    44                  4   \n",
              "9        10    15592389   4104000  Arica   Mujer    27                  2   \n",
              "\n",
              "   Cantidad_Productos Posee_Tarjeta Posee_Propiedad  Sueldo_Estimado_CLP  \\\n",
              "0                   1            Si              Si              1418859   \n",
              "1                   1            No              Si              1963883   \n",
              "2                   3            Si              No                 -100   \n",
              "3                   2            No              No              1279910   \n",
              "4                   1            Si              Si              1300027   \n",
              "5                   2            Si              No              2300778   \n",
              "6                   2            Si              Si              1547085   \n",
              "7                   4            Si              No              1654045   \n",
              "8                   2            No              Si              1802003   \n",
              "9                   1            Si              Si              1277371   \n",
              "\n",
              "  Contrato_Seguro  \n",
              "0              Si  \n",
              "1              No  \n",
              "2              No  \n",
              "3              No  \n",
              "4              No  \n",
              "5              Si  \n",
              "6              No  \n",
              "7              Si  \n",
              "8              No  \n",
              "9              No  "
            ],
            "text/html": [
              "\n",
              "  <div id=\"df-03e77f53-c02b-42fe-b48d-ece946268bc6\" class=\"colab-df-container\">\n",
              "    <div>\n",
              "<style scoped>\n",
              "    .dataframe tbody tr th:only-of-type {\n",
              "        vertical-align: middle;\n",
              "    }\n",
              "\n",
              "    .dataframe tbody tr th {\n",
              "        vertical-align: top;\n",
              "    }\n",
              "\n",
              "    .dataframe thead th {\n",
              "        text-align: right;\n",
              "    }\n",
              "</style>\n",
              "<table border=\"1\" class=\"dataframe\">\n",
              "  <thead>\n",
              "    <tr style=\"text-align: right;\">\n",
              "      <th></th>\n",
              "      <th>Nro_Fila</th>\n",
              "      <th>ID_Cliente</th>\n",
              "      <th>Cupo_CLP</th>\n",
              "      <th>Ciudad</th>\n",
              "      <th>Sexo</th>\n",
              "      <th>Edad</th>\n",
              "      <th>Nivel_Educacional</th>\n",
              "      <th>Cantidad_Productos</th>\n",
              "      <th>Posee_Tarjeta</th>\n",
              "      <th>Posee_Propiedad</th>\n",
              "      <th>Sueldo_Estimado_CLP</th>\n",
              "      <th>Contrato_Seguro</th>\n",
              "    </tr>\n",
              "  </thead>\n",
              "  <tbody>\n",
              "    <tr>\n",
              "      <th>0</th>\n",
              "      <td>1</td>\n",
              "      <td>15634602</td>\n",
              "      <td>3714000</td>\n",
              "      <td>Arica</td>\n",
              "      <td>Hombre</td>\n",
              "      <td>42</td>\n",
              "      <td>2</td>\n",
              "      <td>1</td>\n",
              "      <td>Si</td>\n",
              "      <td>Si</td>\n",
              "      <td>1418859</td>\n",
              "      <td>Si</td>\n",
              "    </tr>\n",
              "    <tr>\n",
              "      <th>1</th>\n",
              "      <td>2</td>\n",
              "      <td>15647311</td>\n",
              "      <td>3648000</td>\n",
              "      <td>Arica</td>\n",
              "      <td>Hombre</td>\n",
              "      <td>41</td>\n",
              "      <td>1</td>\n",
              "      <td>1</td>\n",
              "      <td>No</td>\n",
              "      <td>Si</td>\n",
              "      <td>1963883</td>\n",
              "      <td>No</td>\n",
              "    </tr>\n",
              "    <tr>\n",
              "      <th>2</th>\n",
              "      <td>3</td>\n",
              "      <td>15619304</td>\n",
              "      <td>3012000</td>\n",
              "      <td>Arica</td>\n",
              "      <td>Hombre</td>\n",
              "      <td>-1</td>\n",
              "      <td>3</td>\n",
              "      <td>3</td>\n",
              "      <td>Si</td>\n",
              "      <td>No</td>\n",
              "      <td>-100</td>\n",
              "      <td>No</td>\n",
              "    </tr>\n",
              "    <tr>\n",
              "      <th>3</th>\n",
              "      <td>4</td>\n",
              "      <td>15701354</td>\n",
              "      <td>4194000</td>\n",
              "      <td>Arica</td>\n",
              "      <td>Hombre</td>\n",
              "      <td>39</td>\n",
              "      <td>1</td>\n",
              "      <td>2</td>\n",
              "      <td>No</td>\n",
              "      <td>No</td>\n",
              "      <td>1279910</td>\n",
              "      <td>No</td>\n",
              "    </tr>\n",
              "    <tr>\n",
              "      <th>4</th>\n",
              "      <td>5</td>\n",
              "      <td>15737888</td>\n",
              "      <td>5100000</td>\n",
              "      <td>Arica</td>\n",
              "      <td>Hombre</td>\n",
              "      <td>43</td>\n",
              "      <td>2</td>\n",
              "      <td>1</td>\n",
              "      <td>Si</td>\n",
              "      <td>Si</td>\n",
              "      <td>1300027</td>\n",
              "      <td>No</td>\n",
              "    </tr>\n",
              "    <tr>\n",
              "      <th>5</th>\n",
              "      <td>6</td>\n",
              "      <td>15574012</td>\n",
              "      <td>3870000</td>\n",
              "      <td>Arica</td>\n",
              "      <td>Mujer</td>\n",
              "      <td>44</td>\n",
              "      <td>3</td>\n",
              "      <td>2</td>\n",
              "      <td>Si</td>\n",
              "      <td>No</td>\n",
              "      <td>2300778</td>\n",
              "      <td>Si</td>\n",
              "    </tr>\n",
              "    <tr>\n",
              "      <th>6</th>\n",
              "      <td>7</td>\n",
              "      <td>15592531</td>\n",
              "      <td>4932000</td>\n",
              "      <td>Arica</td>\n",
              "      <td>Mujer</td>\n",
              "      <td>50</td>\n",
              "      <td>4</td>\n",
              "      <td>2</td>\n",
              "      <td>Si</td>\n",
              "      <td>Si</td>\n",
              "      <td>1547085</td>\n",
              "      <td>No</td>\n",
              "    </tr>\n",
              "    <tr>\n",
              "      <th>7</th>\n",
              "      <td>8</td>\n",
              "      <td>15656148</td>\n",
              "      <td>2256000</td>\n",
              "      <td>Arica</td>\n",
              "      <td>Hombre</td>\n",
              "      <td>29</td>\n",
              "      <td>4</td>\n",
              "      <td>4</td>\n",
              "      <td>Si</td>\n",
              "      <td>No</td>\n",
              "      <td>1654045</td>\n",
              "      <td>Si</td>\n",
              "    </tr>\n",
              "    <tr>\n",
              "      <th>8</th>\n",
              "      <td>9</td>\n",
              "      <td>15792365</td>\n",
              "      <td>3006000</td>\n",
              "      <td>Arica</td>\n",
              "      <td>Mujer</td>\n",
              "      <td>44</td>\n",
              "      <td>4</td>\n",
              "      <td>2</td>\n",
              "      <td>No</td>\n",
              "      <td>Si</td>\n",
              "      <td>1802003</td>\n",
              "      <td>No</td>\n",
              "    </tr>\n",
              "    <tr>\n",
              "      <th>9</th>\n",
              "      <td>10</td>\n",
              "      <td>15592389</td>\n",
              "      <td>4104000</td>\n",
              "      <td>Arica</td>\n",
              "      <td>Mujer</td>\n",
              "      <td>27</td>\n",
              "      <td>2</td>\n",
              "      <td>1</td>\n",
              "      <td>Si</td>\n",
              "      <td>Si</td>\n",
              "      <td>1277371</td>\n",
              "      <td>No</td>\n",
              "    </tr>\n",
              "  </tbody>\n",
              "</table>\n",
              "</div>\n",
              "    <div class=\"colab-df-buttons\">\n",
              "\n",
              "  <div class=\"colab-df-container\">\n",
              "    <button class=\"colab-df-convert\" onclick=\"convertToInteractive('df-03e77f53-c02b-42fe-b48d-ece946268bc6')\"\n",
              "            title=\"Convert this dataframe to an interactive table.\"\n",
              "            style=\"display:none;\">\n",
              "\n",
              "  <svg xmlns=\"http://www.w3.org/2000/svg\" height=\"24px\" viewBox=\"0 -960 960 960\">\n",
              "    <path d=\"M120-120v-720h720v720H120Zm60-500h600v-160H180v160Zm220 220h160v-160H400v160Zm0 220h160v-160H400v160ZM180-400h160v-160H180v160Zm440 0h160v-160H620v160ZM180-180h160v-160H180v160Zm440 0h160v-160H620v160Z\"/>\n",
              "  </svg>\n",
              "    </button>\n",
              "\n",
              "  <style>\n",
              "    .colab-df-container {\n",
              "      display:flex;\n",
              "      gap: 12px;\n",
              "    }\n",
              "\n",
              "    .colab-df-convert {\n",
              "      background-color: #E8F0FE;\n",
              "      border: none;\n",
              "      border-radius: 50%;\n",
              "      cursor: pointer;\n",
              "      display: none;\n",
              "      fill: #1967D2;\n",
              "      height: 32px;\n",
              "      padding: 0 0 0 0;\n",
              "      width: 32px;\n",
              "    }\n",
              "\n",
              "    .colab-df-convert:hover {\n",
              "      background-color: #E2EBFA;\n",
              "      box-shadow: 0px 1px 2px rgba(60, 64, 67, 0.3), 0px 1px 3px 1px rgba(60, 64, 67, 0.15);\n",
              "      fill: #174EA6;\n",
              "    }\n",
              "\n",
              "    .colab-df-buttons div {\n",
              "      margin-bottom: 4px;\n",
              "    }\n",
              "\n",
              "    [theme=dark] .colab-df-convert {\n",
              "      background-color: #3B4455;\n",
              "      fill: #D2E3FC;\n",
              "    }\n",
              "\n",
              "    [theme=dark] .colab-df-convert:hover {\n",
              "      background-color: #434B5C;\n",
              "      box-shadow: 0px 1px 3px 1px rgba(0, 0, 0, 0.15);\n",
              "      filter: drop-shadow(0px 1px 2px rgba(0, 0, 0, 0.3));\n",
              "      fill: #FFFFFF;\n",
              "    }\n",
              "  </style>\n",
              "\n",
              "    <script>\n",
              "      const buttonEl =\n",
              "        document.querySelector('#df-03e77f53-c02b-42fe-b48d-ece946268bc6 button.colab-df-convert');\n",
              "      buttonEl.style.display =\n",
              "        google.colab.kernel.accessAllowed ? 'block' : 'none';\n",
              "\n",
              "      async function convertToInteractive(key) {\n",
              "        const element = document.querySelector('#df-03e77f53-c02b-42fe-b48d-ece946268bc6');\n",
              "        const dataTable =\n",
              "          await google.colab.kernel.invokeFunction('convertToInteractive',\n",
              "                                                    [key], {});\n",
              "        if (!dataTable) return;\n",
              "\n",
              "        const docLinkHtml = 'Like what you see? Visit the ' +\n",
              "          '<a target=\"_blank\" href=https://colab.research.google.com/notebooks/data_table.ipynb>data table notebook</a>'\n",
              "          + ' to learn more about interactive tables.';\n",
              "        element.innerHTML = '';\n",
              "        dataTable['output_type'] = 'display_data';\n",
              "        await google.colab.output.renderOutput(dataTable, element);\n",
              "        const docLink = document.createElement('div');\n",
              "        docLink.innerHTML = docLinkHtml;\n",
              "        element.appendChild(docLink);\n",
              "      }\n",
              "    </script>\n",
              "  </div>\n",
              "\n",
              "\n",
              "<div id=\"df-966a7215-a5e1-427c-b7d0-78908ccd8b90\">\n",
              "  <button class=\"colab-df-quickchart\" onclick=\"quickchart('df-966a7215-a5e1-427c-b7d0-78908ccd8b90')\"\n",
              "            title=\"Suggest charts.\"\n",
              "            style=\"display:none;\">\n",
              "\n",
              "<svg xmlns=\"http://www.w3.org/2000/svg\" height=\"24px\"viewBox=\"0 0 24 24\"\n",
              "     width=\"24px\">\n",
              "    <g>\n",
              "        <path d=\"M19 3H5c-1.1 0-2 .9-2 2v14c0 1.1.9 2 2 2h14c1.1 0 2-.9 2-2V5c0-1.1-.9-2-2-2zM9 17H7v-7h2v7zm4 0h-2V7h2v10zm4 0h-2v-4h2v4z\"/>\n",
              "    </g>\n",
              "</svg>\n",
              "  </button>\n",
              "\n",
              "<style>\n",
              "  .colab-df-quickchart {\n",
              "      --bg-color: #E8F0FE;\n",
              "      --fill-color: #1967D2;\n",
              "      --hover-bg-color: #E2EBFA;\n",
              "      --hover-fill-color: #174EA6;\n",
              "      --disabled-fill-color: #AAA;\n",
              "      --disabled-bg-color: #DDD;\n",
              "  }\n",
              "\n",
              "  [theme=dark] .colab-df-quickchart {\n",
              "      --bg-color: #3B4455;\n",
              "      --fill-color: #D2E3FC;\n",
              "      --hover-bg-color: #434B5C;\n",
              "      --hover-fill-color: #FFFFFF;\n",
              "      --disabled-bg-color: #3B4455;\n",
              "      --disabled-fill-color: #666;\n",
              "  }\n",
              "\n",
              "  .colab-df-quickchart {\n",
              "    background-color: var(--bg-color);\n",
              "    border: none;\n",
              "    border-radius: 50%;\n",
              "    cursor: pointer;\n",
              "    display: none;\n",
              "    fill: var(--fill-color);\n",
              "    height: 32px;\n",
              "    padding: 0;\n",
              "    width: 32px;\n",
              "  }\n",
              "\n",
              "  .colab-df-quickchart:hover {\n",
              "    background-color: var(--hover-bg-color);\n",
              "    box-shadow: 0 1px 2px rgba(60, 64, 67, 0.3), 0 1px 3px 1px rgba(60, 64, 67, 0.15);\n",
              "    fill: var(--button-hover-fill-color);\n",
              "  }\n",
              "\n",
              "  .colab-df-quickchart-complete:disabled,\n",
              "  .colab-df-quickchart-complete:disabled:hover {\n",
              "    background-color: var(--disabled-bg-color);\n",
              "    fill: var(--disabled-fill-color);\n",
              "    box-shadow: none;\n",
              "  }\n",
              "\n",
              "  .colab-df-spinner {\n",
              "    border: 2px solid var(--fill-color);\n",
              "    border-color: transparent;\n",
              "    border-bottom-color: var(--fill-color);\n",
              "    animation:\n",
              "      spin 1s steps(1) infinite;\n",
              "  }\n",
              "\n",
              "  @keyframes spin {\n",
              "    0% {\n",
              "      border-color: transparent;\n",
              "      border-bottom-color: var(--fill-color);\n",
              "      border-left-color: var(--fill-color);\n",
              "    }\n",
              "    20% {\n",
              "      border-color: transparent;\n",
              "      border-left-color: var(--fill-color);\n",
              "      border-top-color: var(--fill-color);\n",
              "    }\n",
              "    30% {\n",
              "      border-color: transparent;\n",
              "      border-left-color: var(--fill-color);\n",
              "      border-top-color: var(--fill-color);\n",
              "      border-right-color: var(--fill-color);\n",
              "    }\n",
              "    40% {\n",
              "      border-color: transparent;\n",
              "      border-right-color: var(--fill-color);\n",
              "      border-top-color: var(--fill-color);\n",
              "    }\n",
              "    60% {\n",
              "      border-color: transparent;\n",
              "      border-right-color: var(--fill-color);\n",
              "    }\n",
              "    80% {\n",
              "      border-color: transparent;\n",
              "      border-right-color: var(--fill-color);\n",
              "      border-bottom-color: var(--fill-color);\n",
              "    }\n",
              "    90% {\n",
              "      border-color: transparent;\n",
              "      border-bottom-color: var(--fill-color);\n",
              "    }\n",
              "  }\n",
              "</style>\n",
              "\n",
              "  <script>\n",
              "    async function quickchart(key) {\n",
              "      const quickchartButtonEl =\n",
              "        document.querySelector('#' + key + ' button');\n",
              "      quickchartButtonEl.disabled = true;  // To prevent multiple clicks.\n",
              "      quickchartButtonEl.classList.add('colab-df-spinner');\n",
              "      try {\n",
              "        const charts = await google.colab.kernel.invokeFunction(\n",
              "            'suggestCharts', [key], {});\n",
              "      } catch (error) {\n",
              "        console.error('Error during call to suggestCharts:', error);\n",
              "      }\n",
              "      quickchartButtonEl.classList.remove('colab-df-spinner');\n",
              "      quickchartButtonEl.classList.add('colab-df-quickchart-complete');\n",
              "    }\n",
              "    (() => {\n",
              "      let quickchartButtonEl =\n",
              "        document.querySelector('#df-966a7215-a5e1-427c-b7d0-78908ccd8b90 button');\n",
              "      quickchartButtonEl.style.display =\n",
              "        google.colab.kernel.accessAllowed ? 'block' : 'none';\n",
              "    })();\n",
              "  </script>\n",
              "</div>\n",
              "    </div>\n",
              "  </div>\n"
            ]
          },
          "metadata": {},
          "execution_count": 42
        }
      ]
    },
    {
      "cell_type": "markdown",
      "source": [
        "#####1.f) Genere un histograma para la variable \"Sueldos\".\n",
        "\n"
      ],
      "metadata": {
        "id": "b_yCLoXfkZlA"
      }
    },
    {
      "cell_type": "code",
      "source": [
        "#Histograma variable sueldos\n",
        "print('Respuesta 1.e):')\n",
        "df[['Sueldo_Estimado_CLP']].hist(xlabelsize=8,ylabelsize=8,figsize=(10,4),layout=(1,2))\n",
        "plt.tight_layout()\n",
        "plt.show()"
      ],
      "metadata": {
        "colab": {
          "base_uri": "https://localhost:8080/",
          "height": 425
        },
        "id": "z5VfEFY1jjNe",
        "outputId": "aeba716c-f5c2-4cbb-9f1f-9cd9d4788fb4"
      },
      "execution_count": 43,
      "outputs": [
        {
          "output_type": "stream",
          "name": "stdout",
          "text": [
            "Respuesta 1.e):\n"
          ]
        },
        {
          "output_type": "display_data",
          "data": {
            "text/plain": [
              "<Figure size 1000x400 with 2 Axes>"
            ],
            "image/png": "[encoded data removed]"
          },
          "metadata": {}
        }
      ]
    },
    {
      "cell_type": "markdown",
      "source": [
        "#####1.g) Genere un gráfico de caja y bigotes para analizar el comportamiento de la variable Sueldo a partir de las variables categóricas."
      ],
      "metadata": {
        "id": "zSjnkdN-kbZQ"
      }
    },
    {
      "cell_type": "code",
      "source": [
        "#Boxplot variables categóricas\n",
        "\n",
        "for i in df.columns:\n",
        "  if df[i].dtype=='object':\n",
        "    plt.figure(figsize=(8,2))\n",
        "    plt.title(f'Gráfico Price vs {i}', fontsize=10, color='darkblue')\n",
        "    plt.ylabel('Price', fontsize=10, color='darkred');\n",
        "    plt.xlabel(i, fontsize=10, color='purple');\n",
        "    plt.xticks(rotation=90, fontsize = 8)\n",
        "    plt.yticks(fontsize = 10)\n",
        "    sns.boxplot(x=df[i], y=df['Sueldo_Estimado_CLP'],data=df)\n",
        "    plt.show()"
      ],
      "metadata": {
        "colab": {
          "base_uri": "https://localhost:8080/",
          "height": 1000
        },
        "id": "w7ysH44wibSH",
        "outputId": "fda114dc-1ba7-4d3d-fa72-d11e412e1232"
      },
      "execution_count": 34,
      "outputs": [
        {
          "output_type": "display_data",
          "data": {
            "text/plain": [
              "<Figure size 800x200 with 1 Axes>"
            ],
            "image/png": "[encoded data removed]"
          },
          "metadata": {}
        },
        {
          "output_type": "display_data",
          "data": {
            "text/plain": [
              "<Figure size 800x200 with 1 Axes>"
            ],
            "image/png": "[encoded data removed]"
          },
          "metadata": {}
        },
        {
          "output_type": "display_data",
          "data": {
            "text/plain": [
              "<Figure size 800x200 with 1 Axes>"
            ],
            "image/png": "[encoded data removed]"
          },
          "metadata": {}
        },
        {
          "output_type": "display_data",
          "data": {
            "text/plain": [
              "<Figure size 800x200 with 1 Axes>"
            ],
            "image/png": "[encoded data removed]"
          },
          "metadata": {}
        },
        {
          "output_type": "display_data",
          "data": {
            "text/plain": [
              "<Figure size 800x200 with 1 Axes>"
            ],
            "image/png": "[encoded data removed]"
          },
          "metadata": {}
        }
      ]
    },
    {
      "cell_type": "markdown",
      "source": [
        "#####1.h) Muestre un análisis estadístico de las variables cuantitativas ¿Hay datos extremos?"
      ],
      "metadata": {
        "id": "EJAGoJOtkdGK"
      }
    },
    {
      "cell_type": "code",
      "source": [
        "#Datos estadísticos: edad con -1\n",
        "df.describe()"
      ],
      "metadata": {
        "colab": {
          "base_uri": "https://localhost:8080/",
          "height": 300
        },
        "id": "tbclQmukCDLF",
        "outputId": "57770b90-1e5e-47b6-9918-6d756d07da61"
      },
      "execution_count": 44,
      "outputs": [
        {
          "output_type": "execute_result",
          "data": {
            "text/plain": [
              "          Nro_Fila    ID_Cliente      Cupo_CLP          Edad  \\\n",
              "count  10000.00000  1.000000e+04  1.000000e+04  10000.000000   \n",
              "mean    5000.50000  1.569094e+07  3.903173e+06     38.464900   \n",
              "std     2886.89568  7.193619e+04  5.799198e+05      9.717685   \n",
              "min        1.00000  1.556570e+07  2.100000e+06     -1.000000   \n",
              "25%     2500.75000  1.562853e+07  3.504000e+06     32.000000   \n",
              "50%     5000.50000  1.569074e+07  3.912000e+06     37.000000   \n",
              "75%     7500.25000  1.575323e+07  4.308000e+06     44.000000   \n",
              "max    10000.00000  1.581569e+07  5.100000e+06     70.000000   \n",
              "\n",
              "       Nivel_Educacional  Cantidad_Productos  Sueldo_Estimado_CLP  \n",
              "count       10000.000000        10000.000000         1.000000e+04  \n",
              "mean            3.053600            1.530200         1.702692e+06  \n",
              "std             1.368033            0.581654         6.705839e+05  \n",
              "min             1.000000            1.000000        -1.000000e+02  \n",
              "25%             2.000000            1.000000         1.296500e+06  \n",
              "50%             3.000000            1.000000         1.690148e+06  \n",
              "75%             4.000000            2.000000         2.041137e+06  \n",
              "max             5.000000            4.000000         3.089713e+07  "
            ],
            "text/html": [
              "\n",
              "  <div id=\"df-b031242e-83ce-4f06-9632-d8756f3c52d6\" class=\"colab-df-container\">\n",
              "    <div>\n",
              "<style scoped>\n",
              "    .dataframe tbody tr th:only-of-type {\n",
              "        vertical-align: middle;\n",
              "    }\n",
              "\n",
              "    .dataframe tbody tr th {\n",
              "        vertical-align: top;\n",
              "    }\n",
              "\n",
              "    .dataframe thead th {\n",
              "        text-align: right;\n",
              "    }\n",
              "</style>\n",
              "<table border=\"1\" class=\"dataframe\">\n",
              "  <thead>\n",
              "    <tr style=\"text-align: right;\">\n",
              "      <th></th>\n",
              "      <th>Nro_Fila</th>\n",
              "      <th>ID_Cliente</th>\n",
              "      <th>Cupo_CLP</th>\n",
              "      <th>Edad</th>\n",
              "      <th>Nivel_Educacional</th>\n",
              "      <th>Cantidad_Productos</th>\n",
              "      <th>Sueldo_Estimado_CLP</th>\n",
              "    </tr>\n",
              "  </thead>\n",
              "  <tbody>\n",
              "    <tr>\n",
              "      <th>count</th>\n",
              "      <td>10000.00000</td>\n",
              "      <td>1.000000e+04</td>\n",
              "      <td>1.000000e+04</td>\n",
              "      <td>10000.000000</td>\n",
              "      <td>10000.000000</td>\n",
              "      <td>10000.000000</td>\n",
              "      <td>1.000000e+04</td>\n",
              "    </tr>\n",
              "    <tr>\n",
              "      <th>mean</th>\n",
              "      <td>5000.50000</td>\n",
              "      <td>1.569094e+07</td>\n",
              "      <td>3.903173e+06</td>\n",
              "      <td>38.464900</td>\n",
              "      <td>3.053600</td>\n",
              "      <td>1.530200</td>\n",
              "      <td>1.702692e+06</td>\n",
              "    </tr>\n",
              "    <tr>\n",
              "      <th>std</th>\n",
              "      <td>2886.89568</td>\n",
              "      <td>7.193619e+04</td>\n",
              "      <td>5.799198e+05</td>\n",
              "      <td>9.717685</td>\n",
              "      <td>1.368033</td>\n",
              "      <td>0.581654</td>\n",
              "      <td>6.705839e+05</td>\n",
              "    </tr>\n",
              "    <tr>\n",
              "      <th>min</th>\n",
              "      <td>1.00000</td>\n",
              "      <td>1.556570e+07</td>\n",
              "      <td>2.100000e+06</td>\n",
              "      <td>-1.000000</td>\n",
              "      <td>1.000000</td>\n",
              "      <td>1.000000</td>\n",
              "      <td>-1.000000e+02</td>\n",
              "    </tr>\n",
              "    <tr>\n",
              "      <th>25%</th>\n",
              "      <td>2500.75000</td>\n",
              "      <td>1.562853e+07</td>\n",
              "      <td>3.504000e+06</td>\n",
              "      <td>32.000000</td>\n",
              "      <td>2.000000</td>\n",
              "      <td>1.000000</td>\n",
              "      <td>1.296500e+06</td>\n",
              "    </tr>\n",
              "    <tr>\n",
              "      <th>50%</th>\n",
              "      <td>5000.50000</td>\n",
              "      <td>1.569074e+07</td>\n",
              "      <td>3.912000e+06</td>\n",
              "      <td>37.000000</td>\n",
              "      <td>3.000000</td>\n",
              "      <td>1.000000</td>\n",
              "      <td>1.690148e+06</td>\n",
              "    </tr>\n",
              "    <tr>\n",
              "      <th>75%</th>\n",
              "      <td>7500.25000</td>\n",
              "      <td>1.575323e+07</td>\n",
              "      <td>4.308000e+06</td>\n",
              "      <td>44.000000</td>\n",
              "      <td>4.000000</td>\n",
              "      <td>2.000000</td>\n",
              "      <td>2.041137e+06</td>\n",
              "    </tr>\n",
              "    <tr>\n",
              "      <th>max</th>\n",
              "      <td>10000.00000</td>\n",
              "      <td>1.581569e+07</td>\n",
              "      <td>5.100000e+06</td>\n",
              "      <td>70.000000</td>\n",
              "      <td>5.000000</td>\n",
              "      <td>4.000000</td>\n",
              "      <td>3.089713e+07</td>\n",
              "    </tr>\n",
              "  </tbody>\n",
              "</table>\n",
              "</div>\n",
              "    <div class=\"colab-df-buttons\">\n",
              "\n",
              "  <div class=\"colab-df-container\">\n",
              "    <button class=\"colab-df-convert\" onclick=\"convertToInteractive('df-b031242e-83ce-4f06-9632-d8756f3c52d6')\"\n",
              "            title=\"Convert this dataframe to an interactive table.\"\n",
              "            style=\"display:none;\">\n",
              "\n",
              "  <svg xmlns=\"http://www.w3.org/2000/svg\" height=\"24px\" viewBox=\"0 -960 960 960\">\n",
              "    <path d=\"M120-120v-720h720v720H120Zm60-500h600v-160H180v160Zm220 220h160v-160H400v160Zm0 220h160v-160H400v160ZM180-400h160v-160H180v160Zm440 0h160v-160H620v160ZM180-180h160v-160H180v160Zm440 0h160v-160H620v160Z\"/>\n",
              "  </svg>\n",
              "    </button>\n",
              "\n",
              "  <style>\n",
              "    .colab-df-container {\n",
              "      display:flex;\n",
              "      gap: 12px;\n",
              "    }\n",
              "\n",
              "    .colab-df-convert {\n",
              "      background-color: #E8F0FE;\n",
              "      border: none;\n",
              "      border-radius: 50%;\n",
              "      cursor: pointer;\n",
              "      display: none;\n",
              "      fill: #1967D2;\n",
              "      height: 32px;\n",
              "      padding: 0 0 0 0;\n",
              "      width: 32px;\n",
              "    }\n",
              "\n",
              "    .colab-df-convert:hover {\n",
              "      background-color: #E2EBFA;\n",
              "      box-shadow: 0px 1px 2px rgba(60, 64, 67, 0.3), 0px 1px 3px 1px rgba(60, 64, 67, 0.15);\n",
              "      fill: #174EA6;\n",
              "    }\n",
              "\n",
              "    .colab-df-buttons div {\n",
              "      margin-bottom: 4px;\n",
              "    }\n",
              "\n",
              "    [theme=dark] .colab-df-convert {\n",
              "      background-color: #3B4455;\n",
              "      fill: #D2E3FC;\n",
              "    }\n",
              "\n",
              "    [theme=dark] .colab-df-convert:hover {\n",
              "      background-color: #434B5C;\n",
              "      box-shadow: 0px 1px 3px 1px rgba(0, 0, 0, 0.15);\n",
              "      filter: drop-shadow(0px 1px 2px rgba(0, 0, 0, 0.3));\n",
              "      fill: #FFFFFF;\n",
              "    }\n",
              "  </style>\n",
              "\n",
              "    <script>\n",
              "      const buttonEl =\n",
              "        document.querySelector('#df-b031242e-83ce-4f06-9632-d8756f3c52d6 button.colab-df-convert');\n",
              "      buttonEl.style.display =\n",
              "        google.colab.kernel.accessAllowed ? 'block' : 'none';\n",
              "\n",
              "      async function convertToInteractive(key) {\n",
              "        const element = document.querySelector('#df-b031242e-83ce-4f06-9632-d8756f3c52d6');\n",
              "        const dataTable =\n",
              "          await google.colab.kernel.invokeFunction('convertToInteractive',\n",
              "                                                    [key], {});\n",
              "        if (!dataTable) return;\n",
              "\n",
              "        const docLinkHtml = 'Like what you see? Visit the ' +\n",
              "          '<a target=\"_blank\" href=https://colab.research.google.com/notebooks/data_table.ipynb>data table notebook</a>'\n",
              "          + ' to learn more about interactive tables.';\n",
              "        element.innerHTML = '';\n",
              "        dataTable['output_type'] = 'display_data';\n",
              "        await google.colab.output.renderOutput(dataTable, element);\n",
              "        const docLink = document.createElement('div');\n",
              "        docLink.innerHTML = docLinkHtml;\n",
              "        element.appendChild(docLink);\n",
              "      }\n",
              "    </script>\n",
              "  </div>\n",
              "\n",
              "\n",
              "<div id=\"df-ddc2cd58-455d-4967-afe9-d7e4de57873e\">\n",
              "  <button class=\"colab-df-quickchart\" onclick=\"quickchart('df-ddc2cd58-455d-4967-afe9-d7e4de57873e')\"\n",
              "            title=\"Suggest charts.\"\n",
              "            style=\"display:none;\">\n",
              "\n",
              "<svg xmlns=\"http://www.w3.org/2000/svg\" height=\"24px\"viewBox=\"0 0 24 24\"\n",
              "     width=\"24px\">\n",
              "    <g>\n",
              "        <path d=\"M19 3H5c-1.1 0-2 .9-2 2v14c0 1.1.9 2 2 2h14c1.1 0 2-.9 2-2V5c0-1.1-.9-2-2-2zM9 17H7v-7h2v7zm4 0h-2V7h2v10zm4 0h-2v-4h2v4z\"/>\n",
              "    </g>\n",
              "</svg>\n",
              "  </button>\n",
              "\n",
              "<style>\n",
              "  .colab-df-quickchart {\n",
              "      --bg-color: #E8F0FE;\n",
              "      --fill-color: #1967D2;\n",
              "      --hover-bg-color: #E2EBFA;\n",
              "      --hover-fill-color: #174EA6;\n",
              "      --disabled-fill-color: #AAA;\n",
              "      --disabled-bg-color: #DDD;\n",
              "  }\n",
              "\n",
              "  [theme=dark] .colab-df-quickchart {\n",
              "      --bg-color: #3B4455;\n",
              "      --fill-color: #D2E3FC;\n",
              "      --hover-bg-color: #434B5C;\n",
              "      --hover-fill-color: #FFFFFF;\n",
              "      --disabled-bg-color: #3B4455;\n",
              "      --disabled-fill-color: #666;\n",
              "  }\n",
              "\n",
              "  .colab-df-quickchart {\n",
              "    background-color: var(--bg-color);\n",
              "    border: none;\n",
              "    border-radius: 50%;\n",
              "    cursor: pointer;\n",
              "    display: none;\n",
              "    fill: var(--fill-color);\n",
              "    height: 32px;\n",
              "    padding: 0;\n",
              "    width: 32px;\n",
              "  }\n",
              "\n",
              "  .colab-df-quickchart:hover {\n",
              "    background-color: var(--hover-bg-color);\n",
              "    box-shadow: 0 1px 2px rgba(60, 64, 67, 0.3), 0 1px 3px 1px rgba(60, 64, 67, 0.15);\n",
              "    fill: var(--button-hover-fill-color);\n",
              "  }\n",
              "\n",
              "  .colab-df-quickchart-complete:disabled,\n",
              "  .colab-df-quickchart-complete:disabled:hover {\n",
              "    background-color: var(--disabled-bg-color);\n",
              "    fill: var(--disabled-fill-color);\n",
              "    box-shadow: none;\n",
              "  }\n",
              "\n",
              "  .colab-df-spinner {\n",
              "    border: 2px solid var(--fill-color);\n",
              "    border-color: transparent;\n",
              "    border-bottom-color: var(--fill-color);\n",
              "    animation:\n",
              "      spin 1s steps(1) infinite;\n",
              "  }\n",
              "\n",
              "  @keyframes spin {\n",
              "    0% {\n",
              "      border-color: transparent;\n",
              "      border-bottom-color: var(--fill-color);\n",
              "      border-left-color: var(--fill-color);\n",
              "    }\n",
              "    20% {\n",
              "      border-color: transparent;\n",
              "      border-left-color: var(--fill-color);\n",
              "      border-top-color: var(--fill-color);\n",
              "    }\n",
              "    30% {\n",
              "      border-color: transparent;\n",
              "      border-left-color: var(--fill-color);\n",
              "      border-top-color: var(--fill-color);\n",
              "      border-right-color: var(--fill-color);\n",
              "    }\n",
              "    40% {\n",
              "      border-color: transparent;\n",
              "      border-right-color: var(--fill-color);\n",
              "      border-top-color: var(--fill-color);\n",
              "    }\n",
              "    60% {\n",
              "      border-color: transparent;\n",
              "      border-right-color: var(--fill-color);\n",
              "    }\n",
              "    80% {\n",
              "      border-color: transparent;\n",
              "      border-right-color: var(--fill-color);\n",
              "      border-bottom-color: var(--fill-color);\n",
              "    }\n",
              "    90% {\n",
              "      border-color: transparent;\n",
              "      border-bottom-color: var(--fill-color);\n",
              "    }\n",
              "  }\n",
              "</style>\n",
              "\n",
              "  <script>\n",
              "    async function quickchart(key) {\n",
              "      const quickchartButtonEl =\n",
              "        document.querySelector('#' + key + ' button');\n",
              "      quickchartButtonEl.disabled = true;  // To prevent multiple clicks.\n",
              "      quickchartButtonEl.classList.add('colab-df-spinner');\n",
              "      try {\n",
              "        const charts = await google.colab.kernel.invokeFunction(\n",
              "            'suggestCharts', [key], {});\n",
              "      } catch (error) {\n",
              "        console.error('Error during call to suggestCharts:', error);\n",
              "      }\n",
              "      quickchartButtonEl.classList.remove('colab-df-spinner');\n",
              "      quickchartButtonEl.classList.add('colab-df-quickchart-complete');\n",
              "    }\n",
              "    (() => {\n",
              "      let quickchartButtonEl =\n",
              "        document.querySelector('#df-ddc2cd58-455d-4967-afe9-d7e4de57873e button');\n",
              "      quickchartButtonEl.style.display =\n",
              "        google.colab.kernel.accessAllowed ? 'block' : 'none';\n",
              "    })();\n",
              "  </script>\n",
              "</div>\n",
              "    </div>\n",
              "  </div>\n"
            ]
          },
          "metadata": {},
          "execution_count": 44
        }
      ]
    },
    {
      "cell_type": "code",
      "source": [
        "#Eliminamos edad negativa\n",
        "df.drop(df[df.Edad<0].index, inplace=True)"
      ],
      "metadata": {
        "id": "TVtMWqm9CtLi"
      },
      "execution_count": 45,
      "outputs": []
    },
    {
      "cell_type": "code",
      "source": [
        "#Revisamos que las filas con edad<0 ya no estén en el dataframe:\n",
        "df['Edad'].min()"
      ],
      "metadata": {
        "colab": {
          "base_uri": "https://localhost:8080/"
        },
        "id": "ijtiBWThEJwX",
        "outputId": "f4463cfb-af4d-4a1a-9ab8-1afc4c713a2f"
      },
      "execution_count": 46,
      "outputs": [
        {
          "output_type": "execute_result",
          "data": {
            "text/plain": [
              "18"
            ]
          },
          "metadata": {},
          "execution_count": 46
        }
      ]
    },
    {
      "cell_type": "code",
      "source": [
        "#Eliminamos sueldos altos\n",
        "df.drop(df[df.Sueldo_Estimado_CLP>1e+07].index, inplace=True)"
      ],
      "metadata": {
        "id": "whH_hBjc0nuN"
      },
      "execution_count": 47,
      "outputs": []
    },
    {
      "cell_type": "code",
      "source": [
        "#Revisamos el sueldo máximo\n",
        "df['Sueldo_Estimado_CLP'].max()"
      ],
      "metadata": {
        "colab": {
          "base_uri": "https://localhost:8080/"
        },
        "id": "stckZlMC01P6",
        "outputId": "30dca8ec-e0b9-4d1a-83e9-e03da4683aaf"
      },
      "execution_count": 48,
      "outputs": [
        {
          "output_type": "execute_result",
          "data": {
            "text/plain": [
              "3574565"
            ]
          },
          "metadata": {},
          "execution_count": 48
        }
      ]
    },
    {
      "cell_type": "markdown",
      "source": [
        "#####1.i) ¿Qué columnas eliminaría para un modelo de regresión lineal?"
      ],
      "metadata": {
        "id": "t8ZOFlDckeol"
      }
    },
    {
      "cell_type": "code",
      "source": [
        "#Mostramos las columnas:\n",
        "list(df.columns)"
      ],
      "metadata": {
        "colab": {
          "base_uri": "https://localhost:8080/"
        },
        "id": "fsKhDigjEtnI",
        "outputId": "8722ca5e-4093-4a7d-eb89-7e41c324082b"
      },
      "execution_count": 49,
      "outputs": [
        {
          "output_type": "execute_result",
          "data": {
            "text/plain": [
              "['Nro_Fila',\n",
              " 'ID_Cliente',\n",
              " 'Cupo_CLP',\n",
              " 'Ciudad',\n",
              " 'Sexo',\n",
              " 'Edad',\n",
              " 'Nivel_Educacional',\n",
              " 'Cantidad_Productos',\n",
              " 'Posee_Tarjeta',\n",
              " 'Posee_Propiedad',\n",
              " 'Sueldo_Estimado_CLP',\n",
              " 'Contrato_Seguro']"
            ]
          },
          "metadata": {},
          "execution_count": 49
        }
      ]
    },
    {
      "cell_type": "code",
      "source": [
        "#Eliminamos: 'Nro_Fila', 'ID_Cliente':\n",
        "df=df.drop(['Nro_Fila'], axis=1)\n",
        "df=df.drop(['ID_Cliente'], axis=1)"
      ],
      "metadata": {
        "id": "HHggzYncElAy"
      },
      "execution_count": 50,
      "outputs": []
    },
    {
      "cell_type": "code",
      "source": [
        "#Dataframe sin columnas quitadas\n",
        "list(df.columns)"
      ],
      "metadata": {
        "colab": {
          "base_uri": "https://localhost:8080/"
        },
        "id": "Pu0OwZgiFp9u",
        "outputId": "46e8fdcc-6394-4384-9cd4-b4b948886cc0"
      },
      "execution_count": 51,
      "outputs": [
        {
          "output_type": "execute_result",
          "data": {
            "text/plain": [
              "['Cupo_CLP',\n",
              " 'Ciudad',\n",
              " 'Sexo',\n",
              " 'Edad',\n",
              " 'Nivel_Educacional',\n",
              " 'Cantidad_Productos',\n",
              " 'Posee_Tarjeta',\n",
              " 'Posee_Propiedad',\n",
              " 'Sueldo_Estimado_CLP',\n",
              " 'Contrato_Seguro']"
            ]
          },
          "metadata": {},
          "execution_count": 51
        }
      ]
    },
    {
      "cell_type": "markdown",
      "source": [
        "#####1.j) El Gerente de Operaciones le indica que según su criterio experto, la variable Ciudad no debiese ser considerada como tal, sino que debe agrupar las ciudades por Zona de la siguiente manera: Zona_Norte, Zona_Centro y Zona_Sur. Realice este ajuste dentro de su dataframe."
      ],
      "metadata": {
        "id": "rvEu0DIKkf4D"
      }
    },
    {
      "cell_type": "code",
      "source": [
        "df['Zona'] = df['Ciudad']"
      ],
      "metadata": {
        "id": "3vjieGceF2gx"
      },
      "execution_count": 52,
      "outputs": []
    },
    {
      "cell_type": "code",
      "source": [
        "df['Zona'].unique()"
      ],
      "metadata": {
        "colab": {
          "base_uri": "https://localhost:8080/"
        },
        "id": "cIdJAegOGNoI",
        "outputId": "5ce6abb6-c6e6-444b-d3fa-f1bcfbc3b12d"
      },
      "execution_count": 53,
      "outputs": [
        {
          "output_type": "execute_result",
          "data": {
            "text/plain": [
              "array(['Arica', 'Iquique', 'Antofagasta', 'La Serena', 'Coquimbo',\n",
              "       'Vina del mar', 'Valparaiso', 'Rancagua', 'Curico', 'Chillan',\n",
              "       'Concepcion', 'Temuco', 'Osorno', 'Valdivia', 'Puerto Montt',\n",
              "       'Punta Arenas', 'Santiago'], dtype=object)"
            ]
          },
          "metadata": {},
          "execution_count": 53
        }
      ]
    },
    {
      "cell_type": "code",
      "source": [
        "#Revisar si puedo modificarlo así:\n",
        "#Zona_Norte = ['Arica', 'Iquique', 'Antofagasta', 'La Serena', 'Coquimbo']\n",
        "#Zona_Centro = ['Vina del mar', 'Valparaiso', 'Rancagua', 'Curico','Santiago']\n",
        "#Zona_Sur = ['Chillan', 'Concepcion', 'Temuco', 'Osorno', 'Valdivia', 'Puerto Montt','Punta Arenas']"
      ],
      "metadata": {
        "id": "DSqM8xMRKTYt"
      },
      "execution_count": 54,
      "outputs": []
    },
    {
      "cell_type": "code",
      "source": [
        "df['Zona'] = df['Zona'].replace({'Arica':'Zona_Norte','Iquique':'Zona_Norte','Antofagasta':'Zona_Norte'\n",
        "                                ,'La Serena':'Zona_Norte','Coquimbo': 'Zona_Norte'\n",
        "                                ,'Vina del mar':'Zona_Centro','Valparaiso':'Zona_Centro'\n",
        "                                ,'Santiago':'Zona_Centro','Rancagua':'Zona_Centro','Curico':'Zona_Centro'\n",
        "                                ,'Chillan':'Zona_Sur','Concepcion':'Zona_Sur','Temuco':'Zona_Sur','Osorno':'Zona_Sur'\n",
        "                                ,'Valdivia':'Zona_Sur','Puerto Montt':'Zona_Sur','Punta Arenas':'Zona_Sur'})"
      ],
      "metadata": {
        "id": "NW_ySWWWGGD1"
      },
      "execution_count": 23,
      "outputs": []
    },
    {
      "cell_type": "code",
      "source": [
        "df['Zona'].unique()"
      ],
      "metadata": {
        "colab": {
          "base_uri": "https://localhost:8080/"
        },
        "id": "vjd9s9wDItOG",
        "outputId": "dbdedb19-0156-40b7-a9fb-af217f25ad28"
      },
      "execution_count": 24,
      "outputs": [
        {
          "output_type": "execute_result",
          "data": {
            "text/plain": [
              "array(['Zona_Norte', 'Zona_Centro', 'Zona_Sur'], dtype=object)"
            ]
          },
          "metadata": {},
          "execution_count": 24
        }
      ]
    },
    {
      "cell_type": "code",
      "source": [
        "df=df.drop(['Ciudad'], axis=1)"
      ],
      "metadata": {
        "id": "dThe9DzNJGQe"
      },
      "execution_count": 25,
      "outputs": []
    },
    {
      "cell_type": "code",
      "source": [
        "#Matriz de correlación\n",
        "mask = np.zeros_like(df.corr(), dtype='bool')\n",
        "mask[np.triu_indices_from(mask)]=True\n",
        "plt.figure(figsize=(30, 12))\n",
        "sns.heatmap(df.corr(), annot=True, cmap='coolwarm', fmt='.2f', mask=mask, annot_kws={\"fontsize\":20})\n",
        "plt.show()"
      ],
      "metadata": {
        "colab": {
          "base_uri": "https://localhost:8080/",
          "height": 719
        },
        "id": "11gtcRW54IAT",
        "outputId": "629c549c-81a7-47e2-f95d-cc2c290851f4"
      },
      "execution_count": 31,
      "outputs": [
        {
          "output_type": "stream",
          "name": "stderr",
          "text": [
            "<ipython-input-31-43af1799ea2f>:2: FutureWarning: The default value of numeric_only in DataFrame.corr is deprecated. In a future version, it will default to False. Select only valid columns or specify the value of numeric_only to silence this warning.\n",
            "  mask = np.zeros_like(df.corr(), dtype='bool')\n",
            "<ipython-input-31-43af1799ea2f>:5: FutureWarning: The default value of numeric_only in DataFrame.corr is deprecated. In a future version, it will default to False. Select only valid columns or specify the value of numeric_only to silence this warning.\n",
            "  sns.heatmap(df.corr(), annot=True, cmap='coolwarm', fmt='.2f', mask=mask, annot_kws={\"fontsize\":20})\n"
          ]
        },
        {
          "output_type": "display_data",
          "data": {
            "text/plain": [
              "<Figure size 3000x1200 with 2 Axes>"
            ],
            "image/png": "[encoded data removed]"
          },
          "metadata": {}
        }
      ]
    },
    {
      "cell_type": "markdown",
      "source": [
        "2. Genere un modelo de Regresión Lineal Simple para predecir la variable Sueldo en función de la edad de los clientes.\n",
        "\n",
        "    2.a) ¿Cuáles son los coeficientes de la regresión?\n",
        "\n",
        "    2.b) ¿Cuál es el Error Cuadrático Medio de la regresión?\n",
        "    \n",
        "    2.b) A partir de esta regresión, ¿cuál será el sueldo de una persona que tiene 20, 30 y 40 años?\n"
      ],
      "metadata": {
        "id": "M2y0ZGjTKnjD"
      }
    },
    {
      "cell_type": "code",
      "source": [
        "#Gráfico Sueldo_Estimado_CLP vs Edad\n",
        "plt.figure(figsize=(8,3))\n",
        "plt.title('Gráfico Sueldo_Estimado_CLP vs Edad', fontsize=15, color='darkblue')\n",
        "plt.ylabel('Sueldo_Estimado_CLP', fontsize=12);\n",
        "plt.xlabel('Edad', fontsize=12);\n",
        "sns.scatterplot(data=df, x='Edad', y='Sueldo_Estimado_CLP', s=10, palette='bright')\n",
        "plt.show()"
      ],
      "metadata": {
        "colab": {
          "base_uri": "https://localhost:8080/",
          "height": 341
        },
        "id": "kjvgher-PpyZ",
        "outputId": "0c1cd395-4143-427d-ec09-c1d00485db72"
      },
      "execution_count": 35,
      "outputs": [
        {
          "output_type": "display_data",
          "data": {
            "text/plain": [
              "<Figure size 800x300 with 1 Axes>"
            ],
            "image/png": "[encoded data removed]"
          },
          "metadata": {}
        }
      ]
    },
    {
      "cell_type": "code",
      "source": [
        "#Importamos librería para regresión lineal:\n",
        "import statsmodels.formula.api as smf"
      ],
      "metadata": {
        "id": "ehjtg5GsfDZo"
      },
      "execution_count": 27,
      "outputs": []
    },
    {
      "cell_type": "code",
      "source": [
        "#Regresión Lineal Simple\n",
        "rls=smf.ols(formula='Sueldo_Estimado_CLP~Edad',data=df).fit()"
      ],
      "metadata": {
        "id": "3pQinRmCO7Xy"
      },
      "execution_count": 28,
      "outputs": []
    },
    {
      "cell_type": "code",
      "source": [
        "#Resumen de la regresión\n",
        "rls.summary()"
      ],
      "metadata": {
        "colab": {
          "base_uri": "https://localhost:8080/",
          "height": 448
        },
        "id": "C8UJfB3VPQ8N",
        "outputId": "293e404b-79e8-4ef9-c8e5-1cbec0ddafea"
      },
      "execution_count": 29,
      "outputs": [
        {
          "output_type": "execute_result",
          "data": {
            "text/plain": [
              "<class 'statsmodels.iolib.summary.Summary'>\n",
              "\"\"\"\n",
              "                             OLS Regression Results                            \n",
              "===============================================================================\n",
              "Dep. Variable:     Sueldo_Estimado_CLP   R-squared:                       0.335\n",
              "Model:                             OLS   Adj. R-squared:                  0.335\n",
              "Method:                  Least Squares   F-statistic:                     5024.\n",
              "Date:                 Mon, 11 Sep 2023   Prob (F-statistic):               0.00\n",
              "Time:                         10:52:46   Log-Likelihood:            -1.4308e+05\n",
              "No. Observations:                 9988   AIC:                         2.862e+05\n",
              "Df Residuals:                     9986   BIC:                         2.862e+05\n",
              "Df Model:                            1                                         \n",
              "Covariance Type:             nonrobust                                         \n",
              "==============================================================================\n",
              "                 coef    std err          t      P>|t|      [0.025      0.975]\n",
              "------------------------------------------------------------------------------\n",
              "Intercept   5.547e+05   1.66e+04     33.408      0.000    5.22e+05    5.87e+05\n",
              "Edad        2.966e+04    418.484     70.879      0.000    2.88e+04    3.05e+04\n",
              "==============================================================================\n",
              "Omnibus:                     1110.762   Durbin-Watson:                   2.008\n",
              "Prob(Omnibus):                  0.000   Jarque-Bera (JB):              463.465\n",
              "Skew:                           0.331   Prob(JB):                    2.29e-101\n",
              "Kurtosis:                       2.178   Cond. No.                         163.\n",
              "==============================================================================\n",
              "\n",
              "Notes:\n",
              "[1] Standard Errors assume that the covariance matrix of the errors is correctly specified.\n",
              "\"\"\""
            ],
            "text/html": [
              "<table class=\"simpletable\">\n",
              "<caption>OLS Regression Results</caption>\n",
              "<tr>\n",
              "  <th>Dep. Variable:</th>    <td>Sueldo_Estimado_CLP</td> <th>  R-squared:         </th>  <td>   0.335</td>  \n",
              "</tr>\n",
              "<tr>\n",
              "  <th>Model:</th>                    <td>OLS</td>         <th>  Adj. R-squared:    </th>  <td>   0.335</td>  \n",
              "</tr>\n",
              "<tr>\n",
              "  <th>Method:</th>              <td>Least Squares</td>    <th>  F-statistic:       </th>  <td>   5024.</td>  \n",
              "</tr>\n",
              "<tr>\n",
              "  <th>Date:</th>              <td>Mon, 11 Sep 2023</td>   <th>  Prob (F-statistic):</th>   <td>  0.00</td>   \n",
              "</tr>\n",
              "<tr>\n",
              "  <th>Time:</th>                  <td>10:52:46</td>       <th>  Log-Likelihood:    </th> <td>-1.4308e+05</td>\n",
              "</tr>\n",
              "<tr>\n",
              "  <th>No. Observations:</th>       <td>  9988</td>        <th>  AIC:               </th>  <td>2.862e+05</td> \n",
              "</tr>\n",
              "<tr>\n",
              "  <th>Df Residuals:</th>           <td>  9986</td>        <th>  BIC:               </th>  <td>2.862e+05</td> \n",
              "</tr>\n",
              "<tr>\n",
              "  <th>Df Model:</th>               <td>     1</td>        <th>                     </th>      <td> </td>     \n",
              "</tr>\n",
              "<tr>\n",
              "  <th>Covariance Type:</th>       <td>nonrobust</td>      <th>                     </th>      <td> </td>     \n",
              "</tr>\n",
              "</table>\n",
              "<table class=\"simpletable\">\n",
              "<tr>\n",
              "      <td></td>         <th>coef</th>     <th>std err</th>      <th>t</th>      <th>P>|t|</th>  <th>[0.025</th>    <th>0.975]</th>  \n",
              "</tr>\n",
              "<tr>\n",
              "  <th>Intercept</th> <td> 5.547e+05</td> <td> 1.66e+04</td> <td>   33.408</td> <td> 0.000</td> <td> 5.22e+05</td> <td> 5.87e+05</td>\n",
              "</tr>\n",
              "<tr>\n",
              "  <th>Edad</th>      <td> 2.966e+04</td> <td>  418.484</td> <td>   70.879</td> <td> 0.000</td> <td> 2.88e+04</td> <td> 3.05e+04</td>\n",
              "</tr>\n",
              "</table>\n",
              "<table class=\"simpletable\">\n",
              "<tr>\n",
              "  <th>Omnibus:</th>       <td>1110.762</td> <th>  Durbin-Watson:     </th> <td>   2.008</td> \n",
              "</tr>\n",
              "<tr>\n",
              "  <th>Prob(Omnibus):</th>  <td> 0.000</td>  <th>  Jarque-Bera (JB):  </th> <td> 463.465</td> \n",
              "</tr>\n",
              "<tr>\n",
              "  <th>Skew:</th>           <td> 0.331</td>  <th>  Prob(JB):          </th> <td>2.29e-101</td>\n",
              "</tr>\n",
              "<tr>\n",
              "  <th>Kurtosis:</th>       <td> 2.178</td>  <th>  Cond. No.          </th> <td>    163.</td> \n",
              "</tr>\n",
              "</table><br/><br/>Notes:<br/>[1] Standard Errors assume that the covariance matrix of the errors is correctly specified."
            ],
            "text/latex": "\\begin{center}\n\\begin{tabular}{lclc}\n\\toprule\n\\textbf{Dep. Variable:}    & Sueldo\\_Estimado\\_CLP & \\textbf{  R-squared:         } &      0.335   \\\\\n\\textbf{Model:}            &          OLS          & \\textbf{  Adj. R-squared:    } &      0.335   \\\\\n\\textbf{Method:}           &     Least Squares     & \\textbf{  F-statistic:       } &      5024.   \\\\\n\\textbf{Date:}             &    Mon, 11 Sep 2023   & \\textbf{  Prob (F-statistic):} &      0.00    \\\\\n\\textbf{Time:}             &        10:52:46       & \\textbf{  Log-Likelihood:    } & -1.4308e+05  \\\\\n\\textbf{No. Observations:} &           9988        & \\textbf{  AIC:               } &  2.862e+05   \\\\\n\\textbf{Df Residuals:}     &           9986        & \\textbf{  BIC:               } &  2.862e+05   \\\\\n\\textbf{Df Model:}         &              1        & \\textbf{                     } &              \\\\\n\\textbf{Covariance Type:}  &       nonrobust       & \\textbf{                     } &              \\\\\n\\bottomrule\n\\end{tabular}\n\\begin{tabular}{lcccccc}\n                   & \\textbf{coef} & \\textbf{std err} & \\textbf{t} & \\textbf{P$> |$t$|$} & \\textbf{[0.025} & \\textbf{0.975]}  \\\\\n\\midrule\n\\textbf{Intercept} &    5.547e+05  &     1.66e+04     &    33.408  &         0.000        &     5.22e+05    &     5.87e+05     \\\\\n\\textbf{Edad}      &    2.966e+04  &      418.484     &    70.879  &         0.000        &     2.88e+04    &     3.05e+04     \\\\\n\\bottomrule\n\\end{tabular}\n\\begin{tabular}{lclc}\n\\textbf{Omnibus:}       & 1110.762 & \\textbf{  Durbin-Watson:     } &     2.008  \\\\\n\\textbf{Prob(Omnibus):} &   0.000  & \\textbf{  Jarque-Bera (JB):  } &   463.465  \\\\\n\\textbf{Skew:}          &   0.331  & \\textbf{  Prob(JB):          } & 2.29e-101  \\\\\n\\textbf{Kurtosis:}      &   2.178  & \\textbf{  Cond. No.          } &      163.  \\\\\n\\bottomrule\n\\end{tabular}\n%\\caption{OLS Regression Results}\n\\end{center}\n\nNotes: \\newline\n [1] Standard Errors assume that the covariance matrix of the errors is correctly specified."
          },
          "metadata": {},
          "execution_count": 29
        }
      ]
    },
    {
      "cell_type": "code",
      "source": [
        "from sklearn.linear_model import LinearRegression"
      ],
      "metadata": {
        "id": "Dqcir5bF_IrI"
      },
      "execution_count": 60,
      "outputs": []
    },
    {
      "cell_type": "code",
      "source": [
        "df.columns"
      ],
      "metadata": {
        "colab": {
          "base_uri": "https://localhost:8080/"
        },
        "id": "WiMuE8vP_Jnr",
        "outputId": "a94d238d-8196-4a65-e77d-548eede4fe39"
      },
      "execution_count": 61,
      "outputs": [
        {
          "output_type": "execute_result",
          "data": {
            "text/plain": [
              "Index(['Cupo_CLP', 'Ciudad', 'Sexo', 'Edad', 'Nivel_Educacional',\n",
              "       'Cantidad_Productos', 'Posee_Tarjeta', 'Posee_Propiedad',\n",
              "       'Sueldo_Estimado_CLP', 'Contrato_Seguro', 'Zona'],\n",
              "      dtype='object')"
            ]
          },
          "metadata": {},
          "execution_count": 61
        }
      ]
    },
    {
      "cell_type": "code",
      "source": [
        "X=df[['Edad']]\n",
        "Y=df[['Sueldo_Estimado_CLP']]"
      ],
      "metadata": {
        "id": "cw257vJy_Qxs"
      },
      "execution_count": 110,
      "outputs": []
    },
    {
      "cell_type": "code",
      "source": [
        "rls = LinearRegression()"
      ],
      "metadata": {
        "id": "h5yU1mbE_uAV"
      },
      "execution_count": 111,
      "outputs": []
    },
    {
      "cell_type": "code",
      "source": [
        "rls.fit(X, Y)"
      ],
      "metadata": {
        "colab": {
          "base_uri": "https://localhost:8080/",
          "height": 74
        },
        "id": "1Ihr4mI5_9Bu",
        "outputId": "f8ef901c-9155-402e-9613-fec3ea7644a8"
      },
      "execution_count": 112,
      "outputs": [
        {
          "output_type": "execute_result",
          "data": {
            "text/plain": [
              "LinearRegression()"
            ],
            "text/html": [
              "<style>#sk-container-id-3 {color: black;background-color: white;}#sk-container-id-3 pre{padding: 0;}#sk-container-id-3 div.sk-toggleable {background-color: white;}#sk-container-id-3 label.sk-toggleable__label {cursor: pointer;display: block;width: 100%;margin-bottom: 0;padding: 0.3em;box-sizing: border-box;text-align: center;}#sk-container-id-3 label.sk-toggleable__label-arrow:before {content: \"▸\";float: left;margin-right: 0.25em;color: #696969;}#sk-container-id-3 label.sk-toggleable__label-arrow:hover:before {color: black;}#sk-container-id-3 div.sk-estimator:hover label.sk-toggleable__label-arrow:before {color: black;}#sk-container-id-3 div.sk-toggleable__content {max-height: 0;max-width: 0;overflow: hidden;text-align: left;background-color: #f0f8ff;}#sk-container-id-3 div.sk-toggleable__content pre {margin: 0.2em;color: black;border-radius: 0.25em;background-color: #f0f8ff;}#sk-container-id-3 input.sk-toggleable__control:checked~div.sk-toggleable__content {max-height: 200px;max-width: 100%;overflow: auto;}#sk-container-id-3 input.sk-toggleable__control:checked~label.sk-toggleable__label-arrow:before {content: \"▾\";}#sk-container-id-3 div.sk-estimator input.sk-toggleable__control:checked~label.sk-toggleable__label {background-color: #d4ebff;}#sk-container-id-3 div.sk-label input.sk-toggleable__control:checked~label.sk-toggleable__label {background-color: #d4ebff;}#sk-container-id-3 input.sk-hidden--visually {border: 0;clip: rect(1px 1px 1px 1px);clip: rect(1px, 1px, 1px, 1px);height: 1px;margin: -1px;overflow: hidden;padding: 0;position: absolute;width: 1px;}#sk-container-id-3 div.sk-estimator {font-family: monospace;background-color: #f0f8ff;border: 1px dotted black;border-radius: 0.25em;box-sizing: border-box;margin-bottom: 0.5em;}#sk-container-id-3 div.sk-estimator:hover {background-color: #d4ebff;}#sk-container-id-3 div.sk-parallel-item::after {content: \"\";width: 100%;border-bottom: 1px solid gray;flex-grow: 1;}#sk-container-id-3 div.sk-label:hover label.sk-toggleable__label {background-color: #d4ebff;}#sk-container-id-3 div.sk-serial::before {content: \"\";position: absolute;border-left: 1px solid gray;box-sizing: border-box;top: 0;bottom: 0;left: 50%;z-index: 0;}#sk-container-id-3 div.sk-serial {display: flex;flex-direction: column;align-items: center;background-color: white;padding-right: 0.2em;padding-left: 0.2em;position: relative;}#sk-container-id-3 div.sk-item {position: relative;z-index: 1;}#sk-container-id-3 div.sk-parallel {display: flex;align-items: stretch;justify-content: center;background-color: white;position: relative;}#sk-container-id-3 div.sk-item::before, #sk-container-id-3 div.sk-parallel-item::before {content: \"\";position: absolute;border-left: 1px solid gray;box-sizing: border-box;top: 0;bottom: 0;left: 50%;z-index: -1;}#sk-container-id-3 div.sk-parallel-item {display: flex;flex-direction: column;z-index: 1;position: relative;background-color: white;}#sk-container-id-3 div.sk-parallel-item:first-child::after {align-self: flex-end;width: 50%;}#sk-container-id-3 div.sk-parallel-item:last-child::after {align-self: flex-start;width: 50%;}#sk-container-id-3 div.sk-parallel-item:only-child::after {width: 0;}#sk-container-id-3 div.sk-dashed-wrapped {border: 1px dashed gray;margin: 0 0.4em 0.5em 0.4em;box-sizing: border-box;padding-bottom: 0.4em;background-color: white;}#sk-container-id-3 div.sk-label label {font-family: monospace;font-weight: bold;display: inline-block;line-height: 1.2em;}#sk-container-id-3 div.sk-label-container {text-align: center;}#sk-container-id-3 div.sk-container {/* jupyter's `normalize.less` sets `[hidden] { display: none; }` but bootstrap.min.css set `[hidden] { display: none !important; }` so we also need the `!important` here to be able to override the default hidden behavior on the sphinx rendered scikit-learn.org. See: https://github.com/scikit-learn/scikit-learn/issues/21755 */display: inline-block !important;position: relative;}#sk-container-id-3 div.sk-text-repr-fallback {display: none;}</style><div id=\"sk-container-id-3\" class=\"sk-top-container\"><div class=\"sk-text-repr-fallback\"><pre>LinearRegression()</pre><b>In a Jupyter environment, please rerun this cell to show the HTML representation or trust the notebook. <br />On GitHub, the HTML representation is unable to render, please try loading this page with nbviewer.org.</b></div><div class=\"sk-container\" hidden><div class=\"sk-item\"><div class=\"sk-estimator sk-toggleable\"><input class=\"sk-toggleable__control sk-hidden--visually\" id=\"sk-estimator-id-3\" type=\"checkbox\" checked><label for=\"sk-estimator-id-3\" class=\"sk-toggleable__label sk-toggleable__label-arrow\">LinearRegression</label><div class=\"sk-toggleable__content\"><pre>LinearRegression()</pre></div></div></div></div></div>"
            ]
          },
          "metadata": {},
          "execution_count": 112
        }
      ]
    },
    {
      "cell_type": "code",
      "source": [
        "rls.coef_"
      ],
      "metadata": {
        "colab": {
          "base_uri": "https://localhost:8080/"
        },
        "id": "5NJGdnWpEbp8",
        "outputId": "1caf8844-e6a5-4e34-928e-f342c2c8c117"
      },
      "execution_count": 113,
      "outputs": [
        {
          "output_type": "execute_result",
          "data": {
            "text/plain": [
              "array([[29661.59825656]])"
            ]
          },
          "metadata": {},
          "execution_count": 113
        }
      ]
    },
    {
      "cell_type": "code",
      "source": [
        "rls.intercept_"
      ],
      "metadata": {
        "colab": {
          "base_uri": "https://localhost:8080/"
        },
        "id": "IP5lf9pREdny",
        "outputId": "f795c0cf-91c5-4f97-8c8b-08165735dc25"
      },
      "execution_count": 114,
      "outputs": [
        {
          "output_type": "execute_result",
          "data": {
            "text/plain": [
              "array([554740.64874534])"
            ]
          },
          "metadata": {},
          "execution_count": 114
        }
      ]
    },
    {
      "cell_type": "code",
      "source": [
        "rls.predict(Y)"
      ],
      "metadata": {
        "colab": {
          "base_uri": "https://localhost:8080/",
          "height": 406
        },
        "id": "XMpnFjmUEMOM",
        "outputId": "b12d4740-d120-4849-eadf-20095c457c0b"
      },
      "execution_count": 116,
      "outputs": [
        {
          "output_type": "error",
          "ename": "ValueError",
          "evalue": "ignored",
          "traceback": [
            "\u001b[0;31m---------------------------------------------------------------------------\u001b[0m",
            "\u001b[0;31mValueError\u001b[0m                                Traceback (most recent call last)",
            "\u001b[0;32m<ipython-input-116-3ac942ecbdb6>\u001b[0m in \u001b[0;36m<cell line: 1>\u001b[0;34m()\u001b[0m\n\u001b[0;32m----> 1\u001b[0;31m \u001b[0mrls\u001b[0m\u001b[0;34m.\u001b[0m\u001b[0mpredict\u001b[0m\u001b[0;34m(\u001b[0m\u001b[0mY\u001b[0m\u001b[0;34m)\u001b[0m\u001b[0;34m\u001b[0m\u001b[0;34m\u001b[0m\u001b[0m\n\u001b[0m",
            "\u001b[0;32m/usr/local/lib/python3.10/dist-packages/sklearn/linear_model/_base.py\u001b[0m in \u001b[0;36mpredict\u001b[0;34m(self, X)\u001b[0m\n\u001b[1;32m    352\u001b[0m             \u001b[0mReturns\u001b[0m \u001b[0mpredicted\u001b[0m \u001b[0mvalues\u001b[0m\u001b[0;34m.\u001b[0m\u001b[0;34m\u001b[0m\u001b[0;34m\u001b[0m\u001b[0m\n\u001b[1;32m    353\u001b[0m         \"\"\"\n\u001b[0;32m--> 354\u001b[0;31m         \u001b[0;32mreturn\u001b[0m \u001b[0mself\u001b[0m\u001b[0;34m.\u001b[0m\u001b[0m_decision_function\u001b[0m\u001b[0;34m(\u001b[0m\u001b[0mX\u001b[0m\u001b[0;34m)\u001b[0m\u001b[0;34m\u001b[0m\u001b[0;34m\u001b[0m\u001b[0m\n\u001b[0m\u001b[1;32m    355\u001b[0m \u001b[0;34m\u001b[0m\u001b[0m\n\u001b[1;32m    356\u001b[0m     \u001b[0;32mdef\u001b[0m \u001b[0m_set_intercept\u001b[0m\u001b[0;34m(\u001b[0m\u001b[0mself\u001b[0m\u001b[0;34m,\u001b[0m \u001b[0mX_offset\u001b[0m\u001b[0;34m,\u001b[0m \u001b[0my_offset\u001b[0m\u001b[0;34m,\u001b[0m \u001b[0mX_scale\u001b[0m\u001b[0;34m)\u001b[0m\u001b[0;34m:\u001b[0m\u001b[0;34m\u001b[0m\u001b[0;34m\u001b[0m\u001b[0m\n",
            "\u001b[0;32m/usr/local/lib/python3.10/dist-packages/sklearn/linear_model/_base.py\u001b[0m in \u001b[0;36m_decision_function\u001b[0;34m(self, X)\u001b[0m\n\u001b[1;32m    335\u001b[0m         \u001b[0mcheck_is_fitted\u001b[0m\u001b[0;34m(\u001b[0m\u001b[0mself\u001b[0m\u001b[0;34m)\u001b[0m\u001b[0;34m\u001b[0m\u001b[0;34m\u001b[0m\u001b[0m\n\u001b[1;32m    336\u001b[0m \u001b[0;34m\u001b[0m\u001b[0m\n\u001b[0;32m--> 337\u001b[0;31m         \u001b[0mX\u001b[0m \u001b[0;34m=\u001b[0m \u001b[0mself\u001b[0m\u001b[0;34m.\u001b[0m\u001b[0m_validate_data\u001b[0m\u001b[0;34m(\u001b[0m\u001b[0mX\u001b[0m\u001b[0;34m,\u001b[0m \u001b[0maccept_sparse\u001b[0m\u001b[0;34m=\u001b[0m\u001b[0;34m[\u001b[0m\u001b[0;34m\"csr\"\u001b[0m\u001b[0;34m,\u001b[0m \u001b[0;34m\"csc\"\u001b[0m\u001b[0;34m,\u001b[0m \u001b[0;34m\"coo\"\u001b[0m\u001b[0;34m]\u001b[0m\u001b[0;34m,\u001b[0m \u001b[0mreset\u001b[0m\u001b[0;34m=\u001b[0m\u001b[0;32mFalse\u001b[0m\u001b[0;34m)\u001b[0m\u001b[0;34m\u001b[0m\u001b[0;34m\u001b[0m\u001b[0m\n\u001b[0m\u001b[1;32m    338\u001b[0m         \u001b[0;32mreturn\u001b[0m \u001b[0msafe_sparse_dot\u001b[0m\u001b[0;34m(\u001b[0m\u001b[0mX\u001b[0m\u001b[0;34m,\u001b[0m \u001b[0mself\u001b[0m\u001b[0;34m.\u001b[0m\u001b[0mcoef_\u001b[0m\u001b[0;34m.\u001b[0m\u001b[0mT\u001b[0m\u001b[0;34m,\u001b[0m \u001b[0mdense_output\u001b[0m\u001b[0;34m=\u001b[0m\u001b[0;32mTrue\u001b[0m\u001b[0;34m)\u001b[0m \u001b[0;34m+\u001b[0m \u001b[0mself\u001b[0m\u001b[0;34m.\u001b[0m\u001b[0mintercept_\u001b[0m\u001b[0;34m\u001b[0m\u001b[0;34m\u001b[0m\u001b[0m\n\u001b[1;32m    339\u001b[0m \u001b[0;34m\u001b[0m\u001b[0m\n",
            "\u001b[0;32m/usr/local/lib/python3.10/dist-packages/sklearn/base.py\u001b[0m in \u001b[0;36m_validate_data\u001b[0;34m(self, X, y, reset, validate_separately, **check_params)\u001b[0m\n\u001b[1;32m    546\u001b[0m             \u001b[0mvalidated\u001b[0m\u001b[0;34m.\u001b[0m\u001b[0;34m\u001b[0m\u001b[0;34m\u001b[0m\u001b[0m\n\u001b[1;32m    547\u001b[0m         \"\"\"\n\u001b[0;32m--> 548\u001b[0;31m         \u001b[0mself\u001b[0m\u001b[0;34m.\u001b[0m\u001b[0m_check_feature_names\u001b[0m\u001b[0;34m(\u001b[0m\u001b[0mX\u001b[0m\u001b[0;34m,\u001b[0m \u001b[0mreset\u001b[0m\u001b[0;34m=\u001b[0m\u001b[0mreset\u001b[0m\u001b[0;34m)\u001b[0m\u001b[0;34m\u001b[0m\u001b[0;34m\u001b[0m\u001b[0m\n\u001b[0m\u001b[1;32m    549\u001b[0m \u001b[0;34m\u001b[0m\u001b[0m\n\u001b[1;32m    550\u001b[0m         \u001b[0;32mif\u001b[0m \u001b[0my\u001b[0m \u001b[0;32mis\u001b[0m \u001b[0;32mNone\u001b[0m \u001b[0;32mand\u001b[0m \u001b[0mself\u001b[0m\u001b[0;34m.\u001b[0m\u001b[0m_get_tags\u001b[0m\u001b[0;34m(\u001b[0m\u001b[0;34m)\u001b[0m\u001b[0;34m[\u001b[0m\u001b[0;34m\"requires_y\"\u001b[0m\u001b[0;34m]\u001b[0m\u001b[0;34m:\u001b[0m\u001b[0;34m\u001b[0m\u001b[0;34m\u001b[0m\u001b[0m\n",
            "\u001b[0;32m/usr/local/lib/python3.10/dist-packages/sklearn/base.py\u001b[0m in \u001b[0;36m_check_feature_names\u001b[0;34m(self, X, reset)\u001b[0m\n\u001b[1;32m    479\u001b[0m                 )\n\u001b[1;32m    480\u001b[0m \u001b[0;34m\u001b[0m\u001b[0m\n\u001b[0;32m--> 481\u001b[0;31m             \u001b[0;32mraise\u001b[0m \u001b[0mValueError\u001b[0m\u001b[0;34m(\u001b[0m\u001b[0mmessage\u001b[0m\u001b[0;34m)\u001b[0m\u001b[0;34m\u001b[0m\u001b[0;34m\u001b[0m\u001b[0m\n\u001b[0m\u001b[1;32m    482\u001b[0m \u001b[0;34m\u001b[0m\u001b[0m\n\u001b[1;32m    483\u001b[0m     def _validate_data(\n",
            "\u001b[0;31mValueError\u001b[0m: The feature names should match those that were passed during fit.\nFeature names unseen at fit time:\n- Sueldo_Estimado_CLP\nFeature names seen at fit time, yet now missing:\n- Edad\n"
          ]
        }
      ]
    },
    {
      "cell_type": "markdown",
      "source": [
        "3. Particione el set de datos con un testeo del 25% para generar un modelo de Regresión Lineal Múltiple, incluyendo todas las variables que dejó en su dataset ajustado a partir de las conclusiones del Ánalisis Exploratorio de Datos (EDA).\n",
        "\n",
        "    3.a) Transforme las variables categóricas a Dummies.\n",
        "    \n",
        "    3.b) ¿Cuáles son los coeficientes de esta regresión?\n",
        "  \n",
        "    3.c) Genere un gráfico que muestre el Valor-P de cada uno de los estimadores. ¿Qué variables no son significativas?\n",
        "    \n",
        "    3.d) ¿Cuál es el Error Cuadrático Medio del set de entrenamiento?\n",
        "\n",
        "    3.e) ¿Cuál es el Error Cuadrático Medio del set de testeo?\n"
      ],
      "metadata": {
        "id": "o62b_Hp2LgNE"
      }
    },
    {
      "cell_type": "code",
      "source": [],
      "metadata": {
        "id": "fAmdBVcMGR_k"
      },
      "execution_count": null,
      "outputs": []
    },
    {
      "cell_type": "code",
      "source": [],
      "metadata": {
        "id": "-TeiESFvFeoY"
      },
      "execution_count": null,
      "outputs": []
    }
  ]
}