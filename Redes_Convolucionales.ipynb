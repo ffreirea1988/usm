{
  "nbformat": 4,
  "nbformat_minor": 0,
  "metadata": {
    "colab": {
      "provenance": [],
      "authorship_tag": "ABX9TyNkJiIh18okoAxXr4j2jZlS",
      "include_colab_link": true
    },
    "kernelspec": {
      "name": "python3",
      "display_name": "Python 3"
    },
    "language_info": {
      "name": "python"
    }
  },
  "cells": [
    {
      "cell_type": "markdown",
      "metadata": {
        "id": "view-in-github",
        "colab_type": "text"
      },
      "source": [
        "<a href=\"https://colab.research.google.com/github/ffreirea1988/usm/blob/main/Redes_Convolucionales.ipynb\" target=\"_parent\"><img src=\"https://colab.research.google.com/assets/colab-badge.svg\" alt=\"Open In Colab\"/></a>"
      ]
    },
    {
      "cell_type": "code",
      "execution_count": 1,
      "metadata": {
        "id": "RuSZtgquq6_w"
      },
      "outputs": [],
      "source": [
        "#Cargamos las librerías\n",
        "import numpy as np\n",
        "import matplotlib.pyplot as plt\n",
        "from keras.datasets import cifar10\n",
        "from keras.models import Sequential\n",
        "from keras.layers import Conv2D, MaxPooling2D, Flatten, Dense, Dropout\n",
        "from keras.utils import to_categorical\n",
        "from keras.optimizers import Adam"
      ]
    },
    {
      "cell_type": "code",
      "source": [
        "# Cargar el dataset CIFAR-10\n",
        "(X_train, y_train), (X_test, y_test) = cifar10.load_data()"
      ],
      "metadata": {
        "id": "hOa3CNuBfYJC"
      },
      "execution_count": 85,
      "outputs": []
    },
    {
      "cell_type": "code",
      "source": [
        "print(X_train.shape)\n",
        "print(y_train.shape)\n",
        "print(X_test.shape)\n",
        "print(y_test.shape)"
      ],
      "metadata": {
        "id": "DWWTiy9tfTAd",
        "outputId": "d0c51a55-f860-42d9-b81f-6e7156cbb639",
        "colab": {
          "base_uri": "https://localhost:8080/"
        }
      },
      "execution_count": 86,
      "outputs": [
        {
          "output_type": "stream",
          "name": "stdout",
          "text": [
            "(50000, 32, 32, 3)\n",
            "(50000, 1)\n",
            "(10000, 32, 32, 3)\n",
            "(10000, 1)\n"
          ]
        }
      ]
    },
    {
      "cell_type": "markdown",
      "source": [
        "50.000 imágenes de entrenamiento y 10.000 imágenes de testeo, las cuales cada imagen presenta 32 pixeles de ancho, 32 pixeles de alto y 3 colores de la paleta RGB."
      ],
      "metadata": {
        "id": "zc0cgE5ceGyP"
      }
    },
    {
      "cell_type": "code",
      "source": [
        "#Acá apreciaremos una matriz asociada a los 3 colores del primer pixel de la primera imagen:\n",
        "X_train[0][0][0]"
      ],
      "metadata": {
        "id": "UIRsZ6TggQWs",
        "outputId": "24e2754d-4930-4ab8-f427-8fbb93f16b9a",
        "colab": {
          "base_uri": "https://localhost:8080/"
        }
      },
      "execution_count": 87,
      "outputs": [
        {
          "output_type": "execute_result",
          "data": {
            "text/plain": [
              "array([59, 62, 63], dtype=uint8)"
            ]
          },
          "metadata": {},
          "execution_count": 87
        }
      ]
    },
    {
      "cell_type": "code",
      "source": [
        "#Acá apreciaremos la etiqueta a la que está asociada la primera imagen:\n",
        "y_train[0][0]"
      ],
      "metadata": {
        "id": "x4yIhyhUgpye",
        "outputId": "f1ca89e9-e983-40ea-aa21-c8af3cb36693",
        "colab": {
          "base_uri": "https://localhost:8080/"
        }
      },
      "execution_count": 88,
      "outputs": [
        {
          "output_type": "execute_result",
          "data": {
            "text/plain": [
              "6"
            ]
          },
          "metadata": {},
          "execution_count": 88
        }
      ]
    },
    {
      "cell_type": "code",
      "source": [
        "# Definimos los nombres de las clases en base a CIFAR-10\n",
        "clases = ['avión', 'automóvil', 'pájaro', 'gato', 'ciervo', 'perro', 'rana', 'caballo', 'barco', 'camión']"
      ],
      "metadata": {
        "id": "GVRHz_R86yVh"
      },
      "execution_count": 89,
      "outputs": []
    },
    {
      "cell_type": "code",
      "source": [
        "#Revisemos a qué clase pertenecen las imágenes de la primera fila, de la segunda y de la fila 101:\n",
        "print(clases[y_train[0][0]])\n",
        "print(clases[y_train[1][0]])\n",
        "print(clases[y_train[100][0]])"
      ],
      "metadata": {
        "id": "WZBmpHEGg7wE",
        "outputId": "5df66273-ac23-4c45-f7c2-235e1e3bb9ba",
        "colab": {
          "base_uri": "https://localhost:8080/"
        }
      },
      "execution_count": 90,
      "outputs": [
        {
          "output_type": "stream",
          "name": "stdout",
          "text": [
            "rana\n",
            "camión\n",
            "barco\n"
          ]
        }
      ]
    },
    {
      "cell_type": "code",
      "source": [
        "# Convertiremos las etiquetas a one-hot encoding (array)\n",
        "y_train = to_categorical(y_train, 10)\n",
        "y_test = to_categorical(y_test, 10)"
      ],
      "metadata": {
        "id": "t9mnydw-fr3c"
      },
      "execution_count": 91,
      "outputs": []
    },
    {
      "cell_type": "code",
      "source": [
        "print(y_train[0])\n",
        "print(y_train[1])\n",
        "print(y_train[100])"
      ],
      "metadata": {
        "id": "5dAZTKVIiSq3",
        "outputId": "3f96c4c0-15fd-4ce4-e5e4-bd08d3c706c4",
        "colab": {
          "base_uri": "https://localhost:8080/"
        }
      },
      "execution_count": 92,
      "outputs": [
        {
          "output_type": "stream",
          "name": "stdout",
          "text": [
            "[0. 0. 0. 0. 0. 0. 1. 0. 0. 0.]\n",
            "[0. 0. 0. 0. 0. 0. 0. 0. 0. 1.]\n",
            "[0. 0. 0. 0. 0. 0. 0. 0. 1. 0.]\n"
          ]
        }
      ]
    },
    {
      "cell_type": "code",
      "source": [
        "#Vemos ahora que las variables y son arreglos binarios:\n",
        "print(y_train.shape)\n",
        "print(y_test.shape)"
      ],
      "metadata": {
        "id": "BBz6bz8OhrCQ",
        "outputId": "2e22cf10-1d25-47ae-8334-196ce9002484",
        "colab": {
          "base_uri": "https://localhost:8080/"
        }
      },
      "execution_count": 93,
      "outputs": [
        {
          "output_type": "stream",
          "name": "stdout",
          "text": [
            "(50000, 10)\n",
            "(10000, 10)\n"
          ]
        }
      ]
    },
    {
      "cell_type": "code",
      "source": [
        "#Analicemos las imágenes:\n",
        "X_train.shape"
      ],
      "metadata": {
        "id": "00MV4-C_idzM",
        "outputId": "a971e7df-c351-4782-9cb8-32580c98a24c",
        "colab": {
          "base_uri": "https://localhost:8080/"
        }
      },
      "execution_count": 95,
      "outputs": [
        {
          "output_type": "execute_result",
          "data": {
            "text/plain": [
              "(50000, 32, 32, 3)"
            ]
          },
          "metadata": {},
          "execution_count": 95
        }
      ]
    },
    {
      "cell_type": "code",
      "source": [
        "X_train[0]"
      ],
      "metadata": {
        "id": "-IUL3cCAivK8",
        "outputId": "1d73c7d9-3c1b-4916-e1b3-1feeff05b85e",
        "colab": {
          "base_uri": "https://localhost:8080/",
          "height": 886
        }
      },
      "execution_count": 99,
      "outputs": [
        {
          "output_type": "execute_result",
          "data": {
            "text/plain": [
              "array([[[ 59,  62,  63],\n",
              "        [ 43,  46,  45],\n",
              "        [ 50,  48,  43],\n",
              "        ...,\n",
              "        [158, 132, 108],\n",
              "        [152, 125, 102],\n",
              "        [148, 124, 103]],\n",
              "\n",
              "       [[ 16,  20,  20],\n",
              "        [  0,   0,   0],\n",
              "        [ 18,   8,   0],\n",
              "        ...,\n",
              "        [123,  88,  55],\n",
              "        [119,  83,  50],\n",
              "        [122,  87,  57]],\n",
              "\n",
              "       [[ 25,  24,  21],\n",
              "        [ 16,   7,   0],\n",
              "        [ 49,  27,   8],\n",
              "        ...,\n",
              "        [118,  84,  50],\n",
              "        [120,  84,  50],\n",
              "        [109,  73,  42]],\n",
              "\n",
              "       ...,\n",
              "\n",
              "       [[208, 170,  96],\n",
              "        [201, 153,  34],\n",
              "        [198, 161,  26],\n",
              "        ...,\n",
              "        [160, 133,  70],\n",
              "        [ 56,  31,   7],\n",
              "        [ 53,  34,  20]],\n",
              "\n",
              "       [[180, 139,  96],\n",
              "        [173, 123,  42],\n",
              "        [186, 144,  30],\n",
              "        ...,\n",
              "        [184, 148,  94],\n",
              "        [ 97,  62,  34],\n",
              "        [ 83,  53,  34]],\n",
              "\n",
              "       [[177, 144, 116],\n",
              "        [168, 129,  94],\n",
              "        [179, 142,  87],\n",
              "        ...,\n",
              "        [216, 184, 140],\n",
              "        [151, 118,  84],\n",
              "        [123,  92,  72]]], dtype=uint8)"
            ],
            "text/html": [
              "<style>\n",
              "      .ndarray_repr .ndarray_raw_data {\n",
              "        display: none;\n",
              "      }\n",
              "      .ndarray_repr.show_array .ndarray_raw_data {\n",
              "        display: block;\n",
              "      }\n",
              "      .ndarray_repr.show_array .ndarray_image_preview {\n",
              "        display: none;\n",
              "      }\n",
              "      </style>\n",
              "      <div id=\"id-96495a3c-789b-4c98-ae56-5ebcb567b108\" class=\"ndarray_repr\"><pre>ndarray (32, 32, 3) <button style=\"padding: 0 2px;\">show data</button></pre><img src=\"data:image/png;base64,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\" class=\"ndarray_image_preview\" /><pre class=\"ndarray_raw_data\">array([[[ 59,  62,  63],\n",
              "        [ 43,  46,  45],\n",
              "        [ 50,  48,  43],\n",
              "        ...,\n",
              "        [158, 132, 108],\n",
              "        [152, 125, 102],\n",
              "        [148, 124, 103]],\n",
              "\n",
              "       [[ 16,  20,  20],\n",
              "        [  0,   0,   0],\n",
              "        [ 18,   8,   0],\n",
              "        ...,\n",
              "        [123,  88,  55],\n",
              "        [119,  83,  50],\n",
              "        [122,  87,  57]],\n",
              "\n",
              "       [[ 25,  24,  21],\n",
              "        [ 16,   7,   0],\n",
              "        [ 49,  27,   8],\n",
              "        ...,\n",
              "        [118,  84,  50],\n",
              "        [120,  84,  50],\n",
              "        [109,  73,  42]],\n",
              "\n",
              "       ...,\n",
              "\n",
              "       [[208, 170,  96],\n",
              "        [201, 153,  34],\n",
              "        [198, 161,  26],\n",
              "        ...,\n",
              "        [160, 133,  70],\n",
              "        [ 56,  31,   7],\n",
              "        [ 53,  34,  20]],\n",
              "\n",
              "       [[180, 139,  96],\n",
              "        [173, 123,  42],\n",
              "        [186, 144,  30],\n",
              "        ...,\n",
              "        [184, 148,  94],\n",
              "        [ 97,  62,  34],\n",
              "        [ 83,  53,  34]],\n",
              "\n",
              "       [[177, 144, 116],\n",
              "        [168, 129,  94],\n",
              "        [179, 142,  87],\n",
              "        ...,\n",
              "        [216, 184, 140],\n",
              "        [151, 118,  84],\n",
              "        [123,  92,  72]]], dtype=uint8)</pre></div><script>\n",
              "      (() => {\n",
              "      const titles = ['show data', 'hide data'];\n",
              "      let index = 0\n",
              "      document.querySelector('#id-96495a3c-789b-4c98-ae56-5ebcb567b108 button').onclick = (e) => {\n",
              "        document.querySelector('#id-96495a3c-789b-4c98-ae56-5ebcb567b108').classList.toggle('show_array');\n",
              "        index = (++index) % 2;\n",
              "        document.querySelector('#id-96495a3c-789b-4c98-ae56-5ebcb567b108 button').textContent = titles[index];\n",
              "        e.preventDefault();\n",
              "        e.stopPropagation();\n",
              "      }\n",
              "      })();\n",
              "    </script>"
            ]
          },
          "metadata": {},
          "execution_count": 99
        }
      ]
    },
    {
      "cell_type": "code",
      "source": [
        "X_train[1]"
      ],
      "metadata": {
        "id": "NidLlcjZkDm6",
        "outputId": "66cdee6a-3402-49dd-9afa-4a92f98e60ab",
        "colab": {
          "base_uri": "https://localhost:8080/",
          "height": 71
        }
      },
      "execution_count": 100,
      "outputs": [
        {
          "output_type": "execute_result",
          "data": {
            "text/plain": [
              "array([[[154, 177, 187],\n",
              "        [126, 137, 136],\n",
              "        [105, 104,  95],\n",
              "        ...,\n",
              "        [ 91,  95,  71],\n",
              "        [ 87,  90,  71],\n",
              "        [ 79,  81,  70]],\n",
              "\n",
              "       [[140, 160, 169],\n",
              "        [145, 153, 154],\n",
              "        [125, 125, 118],\n",
              "        ...,\n",
              "        [ 96,  99,  78],\n",
              "        [ 77,  80,  62],\n",
              "        [ 71,  73,  61]],\n",
              "\n",
              "       [[140, 155, 164],\n",
              "        [139, 146, 149],\n",
              "        [115, 115, 112],\n",
              "        ...,\n",
              "        [ 79,  82,  64],\n",
              "        [ 68,  70,  55],\n",
              "        [ 67,  69,  55]],\n",
              "\n",
              "       ...,\n",
              "\n",
              "       [[175, 167, 166],\n",
              "        [156, 154, 160],\n",
              "        [154, 160, 170],\n",
              "        ...,\n",
              "        [ 42,  34,  36],\n",
              "        [ 61,  53,  57],\n",
              "        [ 93,  83,  91]],\n",
              "\n",
              "       [[165, 154, 128],\n",
              "        [156, 152, 130],\n",
              "        [159, 161, 142],\n",
              "        ...,\n",
              "        [103,  93,  96],\n",
              "        [123, 114, 120],\n",
              "        [131, 121, 131]],\n",
              "\n",
              "       [[163, 148, 120],\n",
              "        [158, 148, 122],\n",
              "        [163, 156, 133],\n",
              "        ...,\n",
              "        [143, 133, 139],\n",
              "        [143, 134, 142],\n",
              "        [143, 133, 144]]], dtype=uint8)"
            ],
            "text/html": [
              "<style>\n",
              "      .ndarray_repr .ndarray_raw_data {\n",
              "        display: none;\n",
              "      }\n",
              "      .ndarray_repr.show_array .ndarray_raw_data {\n",
              "        display: block;\n",
              "      }\n",
              "      .ndarray_repr.show_array .ndarray_image_preview {\n",
              "        display: none;\n",
              "      }\n",
              "      </style>\n",
              "      <div id=\"id-01d5d03e-319d-427e-81d8-7867c65bc493\" class=\"ndarray_repr\"><pre>ndarray (32, 32, 3) <button style=\"padding: 0 2px;\">show data</button></pre><img src=\"data:image/png;base64,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\" class=\"ndarray_image_preview\" /><pre class=\"ndarray_raw_data\">array([[[154, 177, 187],\n",
              "        [126, 137, 136],\n",
              "        [105, 104,  95],\n",
              "        ...,\n",
              "        [ 91,  95,  71],\n",
              "        [ 87,  90,  71],\n",
              "        [ 79,  81,  70]],\n",
              "\n",
              "       [[140, 160, 169],\n",
              "        [145, 153, 154],\n",
              "        [125, 125, 118],\n",
              "        ...,\n",
              "        [ 96,  99,  78],\n",
              "        [ 77,  80,  62],\n",
              "        [ 71,  73,  61]],\n",
              "\n",
              "       [[140, 155, 164],\n",
              "        [139, 146, 149],\n",
              "        [115, 115, 112],\n",
              "        ...,\n",
              "        [ 79,  82,  64],\n",
              "        [ 68,  70,  55],\n",
              "        [ 67,  69,  55]],\n",
              "\n",
              "       ...,\n",
              "\n",
              "       [[175, 167, 166],\n",
              "        [156, 154, 160],\n",
              "        [154, 160, 170],\n",
              "        ...,\n",
              "        [ 42,  34,  36],\n",
              "        [ 61,  53,  57],\n",
              "        [ 93,  83,  91]],\n",
              "\n",
              "       [[165, 154, 128],\n",
              "        [156, 152, 130],\n",
              "        [159, 161, 142],\n",
              "        ...,\n",
              "        [103,  93,  96],\n",
              "        [123, 114, 120],\n",
              "        [131, 121, 131]],\n",
              "\n",
              "       [[163, 148, 120],\n",
              "        [158, 148, 122],\n",
              "        [163, 156, 133],\n",
              "        ...,\n",
              "        [143, 133, 139],\n",
              "        [143, 134, 142],\n",
              "        [143, 133, 144]]], dtype=uint8)</pre></div><script>\n",
              "      (() => {\n",
              "      const titles = ['show data', 'hide data'];\n",
              "      let index = 0\n",
              "      document.querySelector('#id-01d5d03e-319d-427e-81d8-7867c65bc493 button').onclick = (e) => {\n",
              "        document.querySelector('#id-01d5d03e-319d-427e-81d8-7867c65bc493').classList.toggle('show_array');\n",
              "        index = (++index) % 2;\n",
              "        document.querySelector('#id-01d5d03e-319d-427e-81d8-7867c65bc493 button').textContent = titles[index];\n",
              "        e.preventDefault();\n",
              "        e.stopPropagation();\n",
              "      }\n",
              "      })();\n",
              "    </script>"
            ]
          },
          "metadata": {},
          "execution_count": 100
        }
      ]
    },
    {
      "cell_type": "code",
      "source": [
        "X_train[100]"
      ],
      "metadata": {
        "id": "IdoYVGq9kEfF",
        "outputId": "d19cdc0f-2ebb-402c-b35e-ea2f1d2565e5",
        "colab": {
          "base_uri": "https://localhost:8080/",
          "height": 71
        }
      },
      "execution_count": 101,
      "outputs": [
        {
          "output_type": "execute_result",
          "data": {
            "text/plain": [
              "array([[[213, 229, 242],\n",
              "        [211, 227, 240],\n",
              "        [211, 227, 240],\n",
              "        ...,\n",
              "        [151, 174, 206],\n",
              "        [151, 174, 206],\n",
              "        [149, 172, 204]],\n",
              "\n",
              "       [[214, 229, 241],\n",
              "        [212, 227, 239],\n",
              "        [212, 227, 239],\n",
              "        ...,\n",
              "        [152, 175, 207],\n",
              "        [152, 175, 207],\n",
              "        [151, 174, 205]],\n",
              "\n",
              "       [[216, 229, 239],\n",
              "        [214, 227, 237],\n",
              "        [213, 227, 237],\n",
              "        ...,\n",
              "        [153, 176, 206],\n",
              "        [153, 176, 206],\n",
              "        [151, 174, 204]],\n",
              "\n",
              "       ...,\n",
              "\n",
              "       [[145, 159, 165],\n",
              "        [136, 148, 154],\n",
              "        [143, 152, 158],\n",
              "        ...,\n",
              "        [216, 217, 206],\n",
              "        [196, 197, 191],\n",
              "        [183, 183, 182]],\n",
              "\n",
              "       [[139, 153, 159],\n",
              "        [129, 142, 148],\n",
              "        [129, 139, 145],\n",
              "        ...,\n",
              "        [227, 228, 219],\n",
              "        [223, 224, 219],\n",
              "        [209, 209, 209]],\n",
              "\n",
              "       [[137, 152, 157],\n",
              "        [143, 155, 161],\n",
              "        [136, 145, 152],\n",
              "        ...,\n",
              "        [209, 209, 203],\n",
              "        [217, 217, 213],\n",
              "        [228, 228, 226]]], dtype=uint8)"
            ],
            "text/html": [
              "<style>\n",
              "      .ndarray_repr .ndarray_raw_data {\n",
              "        display: none;\n",
              "      }\n",
              "      .ndarray_repr.show_array .ndarray_raw_data {\n",
              "        display: block;\n",
              "      }\n",
              "      .ndarray_repr.show_array .ndarray_image_preview {\n",
              "        display: none;\n",
              "      }\n",
              "      </style>\n",
              "      <div id=\"id-f5c4f1da-87fd-46a7-bf80-2cc40781dd5f\" class=\"ndarray_repr\"><pre>ndarray (32, 32, 3) <button style=\"padding: 0 2px;\">show data</button></pre><img src=\"data:image/png;base64,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\" class=\"ndarray_image_preview\" /><pre class=\"ndarray_raw_data\">array([[[213, 229, 242],\n",
              "        [211, 227, 240],\n",
              "        [211, 227, 240],\n",
              "        ...,\n",
              "        [151, 174, 206],\n",
              "        [151, 174, 206],\n",
              "        [149, 172, 204]],\n",
              "\n",
              "       [[214, 229, 241],\n",
              "        [212, 227, 239],\n",
              "        [212, 227, 239],\n",
              "        ...,\n",
              "        [152, 175, 207],\n",
              "        [152, 175, 207],\n",
              "        [151, 174, 205]],\n",
              "\n",
              "       [[216, 229, 239],\n",
              "        [214, 227, 237],\n",
              "        [213, 227, 237],\n",
              "        ...,\n",
              "        [153, 176, 206],\n",
              "        [153, 176, 206],\n",
              "        [151, 174, 204]],\n",
              "\n",
              "       ...,\n",
              "\n",
              "       [[145, 159, 165],\n",
              "        [136, 148, 154],\n",
              "        [143, 152, 158],\n",
              "        ...,\n",
              "        [216, 217, 206],\n",
              "        [196, 197, 191],\n",
              "        [183, 183, 182]],\n",
              "\n",
              "       [[139, 153, 159],\n",
              "        [129, 142, 148],\n",
              "        [129, 139, 145],\n",
              "        ...,\n",
              "        [227, 228, 219],\n",
              "        [223, 224, 219],\n",
              "        [209, 209, 209]],\n",
              "\n",
              "       [[137, 152, 157],\n",
              "        [143, 155, 161],\n",
              "        [136, 145, 152],\n",
              "        ...,\n",
              "        [209, 209, 203],\n",
              "        [217, 217, 213],\n",
              "        [228, 228, 226]]], dtype=uint8)</pre></div><script>\n",
              "      (() => {\n",
              "      const titles = ['show data', 'hide data'];\n",
              "      let index = 0\n",
              "      document.querySelector('#id-f5c4f1da-87fd-46a7-bf80-2cc40781dd5f button').onclick = (e) => {\n",
              "        document.querySelector('#id-f5c4f1da-87fd-46a7-bf80-2cc40781dd5f').classList.toggle('show_array');\n",
              "        index = (++index) % 2;\n",
              "        document.querySelector('#id-f5c4f1da-87fd-46a7-bf80-2cc40781dd5f button').textContent = titles[index];\n",
              "        e.preventDefault();\n",
              "        e.stopPropagation();\n",
              "      }\n",
              "      })();\n",
              "    </script>"
            ]
          },
          "metadata": {},
          "execution_count": 101
        }
      ]
    },
    {
      "cell_type": "code",
      "source": [
        "for i in [0,1,100]:\n",
        "  plt.imshow(X_train[i])\n",
        "  index = np.argmax(y_train[i])\n",
        "  plt.title(f'Label: {clases[index]}')\n",
        "  plt.show()"
      ],
      "metadata": {
        "colab": {
          "base_uri": "https://localhost:8080/",
          "height": 1000
        },
        "id": "nJep4dT-5rvo",
        "outputId": "0b07e960-8881-4fbc-9fb9-7e24643f632c"
      },
      "execution_count": 158,
      "outputs": [
        {
          "output_type": "display_data",
          "data": {
            "text/plain": [
              "<Figure size 640x480 with 1 Axes>"
            ],
            "image/png": "[encoded data removed]"
          },
          "metadata": {}
        },
        {
          "output_type": "display_data",
          "data": {
            "text/plain": [
              "<Figure size 640x480 with 1 Axes>"
            ],
            "image/png": "[encoded data removed]"
          },
          "metadata": {}
        },
        {
          "output_type": "display_data",
          "data": {
            "text/plain": [
              "<Figure size 640x480 with 1 Axes>"
            ],
            "image/png": "[encoded data removed]"
          },
          "metadata": {}
        }
      ]
    },
    {
      "cell_type": "code",
      "source": [
        "# Normalizamos los datos a un rango de 0 a 1\n",
        "X_train = X_train.astype('float32') / 255.0\n",
        "X_test = X_test.astype('float32') / 255.0"
      ],
      "metadata": {
        "id": "PgGOccUCq94K"
      },
      "execution_count": 160,
      "outputs": []
    },
    {
      "cell_type": "code",
      "source": [
        "X_train[0]"
      ],
      "metadata": {
        "id": "ip7x75JBnrN4",
        "outputId": "ef08cc96-396f-442c-959e-dc23a6c3e2cd",
        "colab": {
          "base_uri": "https://localhost:8080/"
        }
      },
      "execution_count": 161,
      "outputs": [
        {
          "output_type": "execute_result",
          "data": {
            "text/plain": [
              "array([[[0.23137255, 0.24313726, 0.24705882],\n",
              "        [0.16862746, 0.18039216, 0.1764706 ],\n",
              "        [0.19607843, 0.1882353 , 0.16862746],\n",
              "        ...,\n",
              "        [0.61960787, 0.5176471 , 0.42352942],\n",
              "        [0.59607846, 0.49019608, 0.4       ],\n",
              "        [0.5803922 , 0.4862745 , 0.40392157]],\n",
              "\n",
              "       [[0.0627451 , 0.07843138, 0.07843138],\n",
              "        [0.        , 0.        , 0.        ],\n",
              "        [0.07058824, 0.03137255, 0.        ],\n",
              "        ...,\n",
              "        [0.48235294, 0.34509805, 0.21568628],\n",
              "        [0.46666667, 0.3254902 , 0.19607843],\n",
              "        [0.47843137, 0.34117648, 0.22352941]],\n",
              "\n",
              "       [[0.09803922, 0.09411765, 0.08235294],\n",
              "        [0.0627451 , 0.02745098, 0.        ],\n",
              "        [0.19215687, 0.10588235, 0.03137255],\n",
              "        ...,\n",
              "        [0.4627451 , 0.32941177, 0.19607843],\n",
              "        [0.47058824, 0.32941177, 0.19607843],\n",
              "        [0.42745098, 0.28627452, 0.16470589]],\n",
              "\n",
              "       ...,\n",
              "\n",
              "       [[0.8156863 , 0.6666667 , 0.3764706 ],\n",
              "        [0.7882353 , 0.6       , 0.13333334],\n",
              "        [0.7764706 , 0.6313726 , 0.10196079],\n",
              "        ...,\n",
              "        [0.627451  , 0.52156866, 0.27450982],\n",
              "        [0.21960784, 0.12156863, 0.02745098],\n",
              "        [0.20784314, 0.13333334, 0.07843138]],\n",
              "\n",
              "       [[0.7058824 , 0.54509807, 0.3764706 ],\n",
              "        [0.6784314 , 0.48235294, 0.16470589],\n",
              "        [0.7294118 , 0.5647059 , 0.11764706],\n",
              "        ...,\n",
              "        [0.72156864, 0.5803922 , 0.36862746],\n",
              "        [0.38039216, 0.24313726, 0.13333334],\n",
              "        [0.3254902 , 0.20784314, 0.13333334]],\n",
              "\n",
              "       [[0.69411767, 0.5647059 , 0.45490196],\n",
              "        [0.65882355, 0.5058824 , 0.36862746],\n",
              "        [0.7019608 , 0.5568628 , 0.34117648],\n",
              "        ...,\n",
              "        [0.84705883, 0.72156864, 0.54901963],\n",
              "        [0.5921569 , 0.4627451 , 0.32941177],\n",
              "        [0.48235294, 0.36078432, 0.28235295]]], dtype=float32)"
            ]
          },
          "metadata": {},
          "execution_count": 161
        }
      ]
    },
    {
      "cell_type": "code",
      "source": [
        "#Definimos el modelo secuencial\n",
        "model = Sequential()\n",
        "\n",
        "# Añadir capas convolucionales, de pooling, flatten y densas\n",
        "model.add(Conv2D(32, (3, 3), activation='relu', input_shape=(32, 32, 3)))\n",
        "model.add(MaxPooling2D((2, 2)))\n",
        "model.add(Conv2D(64, (3, 3), activation='relu'))\n",
        "model.add(MaxPooling2D((2, 2)))\n",
        "model.add(Conv2D(128, (3, 3), activation='relu'))\n",
        "model.add(MaxPooling2D((2, 2)))\n",
        "model.add(Flatten())\n",
        "model.add(Dense(128, activation='relu'))\n",
        "model.add(Dropout(0.5))\n",
        "model.add(Dense(10, activation='softmax'))"
      ],
      "metadata": {
        "id": "vt4gS4LErNDs"
      },
      "execution_count": 166,
      "outputs": []
    },
    {
      "cell_type": "markdown",
      "source": [
        "Se aprecia que la red neuronal viene dada por la forma:\n",
        "\n",
        "nn = [32, 64, 128, 128, 10]\n",
        "\n",
        "Vale decir, la red recibirá 32 variables de entrada, pasará por las capas ocultas, y luego entregará 10 potenciales clasificaciones."
      ],
      "metadata": {
        "id": "A4XLJJbZrXMa"
      }
    },
    {
      "cell_type": "code",
      "source": [
        "#Compilamos el modelo\n",
        "model.compile(optimizer=Adam(),\n",
        "              loss='categorical_crossentropy',\n",
        "              metrics=['accuracy'])"
      ],
      "metadata": {
        "id": "t2RRfuRirwZZ"
      },
      "execution_count": 167,
      "outputs": []
    },
    {
      "cell_type": "code",
      "source": [
        "#Entrenamos el modelo\n",
        "history = model.fit(X_train, y_train, epochs=20, batch_size=64, validation_data=(X_test, y_test))"
      ],
      "metadata": {
        "colab": {
          "base_uri": "https://localhost:8080/"
        },
        "id": "Wdb9x6xEsDm4",
        "outputId": "359d7af0-79d7-4160-b16f-df325fa50481"
      },
      "execution_count": 168,
      "outputs": [
        {
          "output_type": "stream",
          "name": "stdout",
          "text": [
            "Epoch 1/20\n",
            "782/782 [==============================] - 81s 100ms/step - loss: 1.7005 - accuracy: 0.3696 - val_loss: 1.3506 - val_accuracy: 0.5154\n",
            "Epoch 2/20\n",
            "782/782 [==============================] - 74s 94ms/step - loss: 1.3113 - accuracy: 0.5306 - val_loss: 1.1990 - val_accuracy: 0.5738\n",
            "Epoch 3/20\n",
            "782/782 [==============================] - 75s 96ms/step - loss: 1.1534 - accuracy: 0.5967 - val_loss: 1.0442 - val_accuracy: 0.6237\n",
            "Epoch 4/20\n",
            "782/782 [==============================] - 72s 92ms/step - loss: 1.0427 - accuracy: 0.6383 - val_loss: 1.0009 - val_accuracy: 0.6452\n",
            "Epoch 5/20\n",
            "782/782 [==============================] - 73s 94ms/step - loss: 0.9610 - accuracy: 0.6659 - val_loss: 0.8864 - val_accuracy: 0.6892\n",
            "Epoch 6/20\n",
            "782/782 [==============================] - 72s 93ms/step - loss: 0.8946 - accuracy: 0.6891 - val_loss: 0.8959 - val_accuracy: 0.6845\n",
            "Epoch 7/20\n",
            "782/782 [==============================] - 74s 94ms/step - loss: 0.8419 - accuracy: 0.7073 - val_loss: 0.9227 - val_accuracy: 0.6873\n",
            "Epoch 8/20\n",
            "782/782 [==============================] - 74s 95ms/step - loss: 0.7940 - accuracy: 0.7242 - val_loss: 0.8289 - val_accuracy: 0.7079\n",
            "Epoch 9/20\n",
            "782/782 [==============================] - 72s 92ms/step - loss: 0.7536 - accuracy: 0.7383 - val_loss: 0.8652 - val_accuracy: 0.7031\n",
            "Epoch 10/20\n",
            "782/782 [==============================] - 73s 93ms/step - loss: 0.7125 - accuracy: 0.7528 - val_loss: 0.8355 - val_accuracy: 0.7193\n",
            "Epoch 11/20\n",
            "782/782 [==============================] - 73s 93ms/step - loss: 0.6775 - accuracy: 0.7651 - val_loss: 0.8170 - val_accuracy: 0.7229\n",
            "Epoch 12/20\n",
            "782/782 [==============================] - 73s 93ms/step - loss: 0.6542 - accuracy: 0.7720 - val_loss: 0.8052 - val_accuracy: 0.7181\n",
            "Epoch 13/20\n",
            "782/782 [==============================] - 72s 93ms/step - loss: 0.6147 - accuracy: 0.7848 - val_loss: 0.8145 - val_accuracy: 0.7276\n",
            "Epoch 14/20\n",
            "782/782 [==============================] - 73s 93ms/step - loss: 0.5910 - accuracy: 0.7921 - val_loss: 0.8159 - val_accuracy: 0.7331\n",
            "Epoch 15/20\n",
            "782/782 [==============================] - 73s 93ms/step - loss: 0.5678 - accuracy: 0.8024 - val_loss: 0.8039 - val_accuracy: 0.7295\n",
            "Epoch 16/20\n",
            "782/782 [==============================] - 73s 93ms/step - loss: 0.5400 - accuracy: 0.8088 - val_loss: 0.8196 - val_accuracy: 0.7358\n",
            "Epoch 17/20\n",
            "782/782 [==============================] - 71s 91ms/step - loss: 0.5215 - accuracy: 0.8151 - val_loss: 0.8367 - val_accuracy: 0.7349\n",
            "Epoch 18/20\n",
            "782/782 [==============================] - 73s 94ms/step - loss: 0.5021 - accuracy: 0.8222 - val_loss: 0.8513 - val_accuracy: 0.7337\n",
            "Epoch 19/20\n",
            "782/782 [==============================] - 76s 98ms/step - loss: 0.4865 - accuracy: 0.8278 - val_loss: 0.8684 - val_accuracy: 0.7389\n",
            "Epoch 20/20\n",
            "782/782 [==============================] - 73s 93ms/step - loss: 0.4647 - accuracy: 0.8328 - val_loss: 0.8500 - val_accuracy: 0.7337\n"
          ]
        }
      ]
    },
    {
      "cell_type": "markdown",
      "source": [
        "Notar que después de cierto epoch, el val_loss comienza a aumentar, por lo que el modelo se está sobreajustando, y solo está disminuyendo la pérdida del entrenamiento."
      ],
      "metadata": {
        "id": "XX-X35dVxJRV"
      }
    },
    {
      "cell_type": "code",
      "source": [
        "# Model summary y ploteo del grafo\n",
        "model.summary()"
      ],
      "metadata": {
        "id": "WgSZUs89xaIt",
        "outputId": "8fe47f5c-4e45-498d-f6f0-5ae078d72ec0",
        "colab": {
          "base_uri": "https://localhost:8080/"
        }
      },
      "execution_count": 178,
      "outputs": [
        {
          "output_type": "stream",
          "name": "stdout",
          "text": [
            "Model: \"sequential\"\n",
            "_________________________________________________________________\n",
            " Layer (type)                Output Shape              Param #   \n",
            "=================================================================\n",
            " conv2d (Conv2D)             (None, 30, 30, 32)        896       \n",
            "                                                                 \n",
            " max_pooling2d (MaxPooling2  (None, 15, 15, 32)        0         \n",
            " D)                                                              \n",
            "                                                                 \n",
            " conv2d_1 (Conv2D)           (None, 13, 13, 64)        18496     \n",
            "                                                                 \n",
            " max_pooling2d_1 (MaxPoolin  (None, 6, 6, 64)          0         \n",
            " g2D)                                                            \n",
            "                                                                 \n",
            " conv2d_2 (Conv2D)           (None, 4, 4, 128)         73856     \n",
            "                                                                 \n",
            " max_pooling2d_2 (MaxPoolin  (None, 2, 2, 128)         0         \n",
            " g2D)                                                            \n",
            "                                                                 \n",
            " flatten (Flatten)           (None, 512)               0         \n",
            "                                                                 \n",
            " dense (Dense)               (None, 128)               65664     \n",
            "                                                                 \n",
            " dropout (Dropout)           (None, 128)               0         \n",
            "                                                                 \n",
            " dense_1 (Dense)             (None, 10)                1290      \n",
            "                                                                 \n",
            "=================================================================\n",
            "Total params: 160202 (625.79 KB)\n",
            "Trainable params: 160202 (625.79 KB)\n",
            "Non-trainable params: 0 (0.00 Byte)\n",
            "_________________________________________________________________\n"
          ]
        }
      ]
    },
    {
      "cell_type": "code",
      "source": [
        "#Revisamos cuál es el Accuracy del modelo:\n",
        "test_loss, test_acc = model.evaluate(X_test, y_test)\n",
        "print(f\"Test accuracy: {test_acc}\")"
      ],
      "metadata": {
        "colab": {
          "base_uri": "https://localhost:8080/"
        },
        "id": "O1t4Izz0sS-c",
        "outputId": "94dfb0cc-80aa-4040-877f-4ac0d0c1346e"
      },
      "execution_count": 169,
      "outputs": [
        {
          "output_type": "stream",
          "name": "stdout",
          "text": [
            "313/313 [==============================] - 4s 14ms/step - loss: 0.8500 - accuracy: 0.7337\n",
            "Test accuracy: 0.7336999773979187\n"
          ]
        }
      ]
    },
    {
      "cell_type": "code",
      "source": [
        "#Generamos la predicción de las etiquetas:\n",
        "y_predict = model.predict(X_test)"
      ],
      "metadata": {
        "id": "cbNCDXTzwesy",
        "outputId": "446acd81-8f0e-4e9b-e5e4-34167fc7ab10",
        "colab": {
          "base_uri": "https://localhost:8080/"
        }
      },
      "execution_count": 170,
      "outputs": [
        {
          "output_type": "stream",
          "name": "stdout",
          "text": [
            "313/313 [==============================] - 4s 13ms/step\n"
          ]
        }
      ]
    },
    {
      "cell_type": "code",
      "source": [
        "y_test[0]"
      ],
      "metadata": {
        "id": "et-XuqKzwntL",
        "outputId": "07cd18ea-c694-4dce-84e4-97656477ab30",
        "colab": {
          "base_uri": "https://localhost:8080/"
        }
      },
      "execution_count": 173,
      "outputs": [
        {
          "output_type": "execute_result",
          "data": {
            "text/plain": [
              "array([0., 0., 0., 1., 0., 0., 0., 0., 0., 0.], dtype=float32)"
            ]
          },
          "metadata": {},
          "execution_count": 173
        }
      ]
    },
    {
      "cell_type": "code",
      "source": [
        "y_predict[0]"
      ],
      "metadata": {
        "id": "nsHXqu2gwyQw",
        "outputId": "ce5cf81b-9188-4290-c61a-032c184e8d0f",
        "colab": {
          "base_uri": "https://localhost:8080/"
        }
      },
      "execution_count": 174,
      "outputs": [
        {
          "output_type": "execute_result",
          "data": {
            "text/plain": [
              "array([2.5389788e-03, 1.3387014e-04, 2.3907428e-03, 5.1025236e-01,\n",
              "       8.6434622e-05, 4.7691238e-01, 2.1154121e-03, 5.8007526e-04,\n",
              "       4.8664431e-03, 1.2326063e-04], dtype=float32)"
            ]
          },
          "metadata": {},
          "execution_count": 174
        }
      ]
    },
    {
      "cell_type": "code",
      "source": [
        "y_pred_binary = (y_predict > 0.5).astype(int)"
      ],
      "metadata": {
        "id": "BO-ZSIXCw0m_"
      },
      "execution_count": 175,
      "outputs": []
    },
    {
      "cell_type": "code",
      "source": [
        "y_pred_binary[0]"
      ],
      "metadata": {
        "id": "43t1FozXxCV_",
        "outputId": "7aec5e2f-07ae-4c55-85a0-f0c3b3a2d3f1",
        "colab": {
          "base_uri": "https://localhost:8080/"
        }
      },
      "execution_count": 177,
      "outputs": [
        {
          "output_type": "execute_result",
          "data": {
            "text/plain": [
              "array([0, 0, 0, 1, 0, 0, 0, 0, 0, 0])"
            ]
          },
          "metadata": {},
          "execution_count": 177
        }
      ]
    }
  ]
}