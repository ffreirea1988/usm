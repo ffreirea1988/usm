{
  "nbformat": 4,
  "nbformat_minor": 0,
  "metadata": {
    "colab": {
      "provenance": [],
      "authorship_tag": "ABX9TyMaT0pMueyh/bloRMIlQYt3",
      "include_colab_link": true
    },
    "kernelspec": {
      "name": "python3",
      "display_name": "Python 3"
    },
    "language_info": {
      "name": "python"
    }
  },
  "cells": [
    {
      "cell_type": "markdown",
      "metadata": {
        "id": "view-in-github",
        "colab_type": "text"
      },
      "source": [
        "<a href=\"https://colab.research.google.com/github/ffreirea1988/usm/blob/pega/Carga_gastos.ipynb\" target=\"_parent\"><img src=\"https://colab.research.google.com/assets/colab-badge.svg\" alt=\"Open In Colab\"/></a>"
      ]
    },
    {
      "cell_type": "code",
      "execution_count": 325,
      "metadata": {
        "id": "1mI38rdNPu8r"
      },
      "outputs": [],
      "source": [
        "import pandas as pd\n",
        "import numpy as np\n",
        "import matplotlib.pyplot as plt\n",
        "import seaborn as sns"
      ]
    },
    {
      "cell_type": "code",
      "source": [
        "#Nombre del archivo (se modifica mes a mes)\n",
        "nmb_input = 'Cuentas TI - 092023 - Septiembre 2023.xlsx'\n",
        "\n",
        "#Mes de cierre\n",
        "mes = 9"
      ],
      "metadata": {
        "id": "kwzABEKAku10"
      },
      "execution_count": 326,
      "outputs": []
    },
    {
      "cell_type": "code",
      "source": [
        "#Cargar pestañas del excel:\n",
        "df_2701 = pd.read_excel(f'/content/{nmb_input}', sheet_name='31112701')\n",
        "df_2702 = pd.read_excel(f'/content/{nmb_input}', sheet_name='31112702')\n",
        "df_2703 = pd.read_excel(f'/content/{nmb_input}', sheet_name='31112703')\n",
        "df_2704 = pd.read_excel(f'/content/{nmb_input}', sheet_name='31112704')\n",
        "df_2705 = pd.read_excel(f'/content/{nmb_input}', sheet_name='31112705')\n",
        "df_2710 = pd.read_excel(f'/content/{nmb_input}', sheet_name='31112710')\n",
        "df_2711 = pd.read_excel(f'/content/{nmb_input}', sheet_name='31112711')\n",
        "df_2712 = pd.read_excel(f'/content/{nmb_input}', sheet_name='31112712')\n",
        "\n",
        "#Eliminar la última fila de cada tabla (n=1)\n",
        "n=1\n",
        "df_2701.drop(df_2701.tail(n).index, inplace = True)\n",
        "df_2702.drop(df_2702.tail(n).index, inplace = True)\n",
        "df_2703.drop(df_2703.tail(n).index, inplace = True)\n",
        "df_2704.drop(df_2704.tail(n).index, inplace = True)\n",
        "df_2705.drop(df_2705.tail(n).index, inplace = True)\n",
        "df_2710.drop(df_2710.tail(n).index, inplace = True)\n",
        "df_2711.drop(df_2711.tail(n).index, inplace = True)\n",
        "df_2712.drop(df_2712.tail(n).index, inplace = True)\n",
        "\n",
        "#Concatenar archivos en un solo dataframe con todas las cuentas\n",
        "#axis=1 unir por filas\n",
        "#axis=0 unir por columnas\n",
        "df = pd.concat([df_2701, df_2702, df_2703, df_2704, df_2705, df_2710, df_2711, df_2712], axis=0)\n",
        "\n",
        "#Agregar nombre de cuentas:\n",
        "df['Nmb_Cuenta'] = df['Cuenta'].replace({\n",
        "        31112701:'Leasing Equipos',\n",
        "        31112702:'Evolutivos y Correctivos',\n",
        "        31112703:'Redes',\n",
        "        31112704:'Data Center',\n",
        "        31112705:'Licencias De Software',\n",
        "        31112710:'Soporte Operacional',\n",
        "        31112711:'Evolutivos Mayores',\n",
        "        31112712:'Soporte de Sistemas'\n",
        "        })\n",
        "\n",
        "#Reemplazar valor #¡REF!\n",
        "df['Texto'] = df['Texto'].replace('#¡REF!','REF_')\n",
        "\n",
        "#Eliminar mes no cerrado:\n",
        "df=df[df['Período contable'] <= mes]"
      ],
      "metadata": {
        "id": "mGiuBhQVQQb_"
      },
      "execution_count": 491,
      "outputs": []
    },
    {
      "cell_type": "code",
      "source": [
        "#Cargar auxiliar de clasificación\n",
        "nmb_aux = 'Aux_Clasificación.xlsx'\n",
        "df_aux_oc = pd.read_excel(f'/content/{nmb_aux}', sheet_name='Aux_Clasificación_OC')\n",
        "df_aux_txt = pd.read_excel(f'/content/{nmb_aux}', sheet_name='Aux_Clasificación_Txt')\n",
        "df_aux_ceco = pd.read_excel(f'/content/{nmb_aux}', sheet_name='Aux_Cecos')\n",
        "\n",
        "#1ra Agrupación\n",
        "#Agrupar dataframe con clasificación por OC:\n",
        "df_clas = df.merge(df_aux_oc, how='left', on='Documento compras')\n",
        "\n",
        "#Eliminar columnas duplicadas por el join:\n",
        "df_clas.drop(['Cuenta_y', 'Nmb_Cuenta_y'], axis=1, inplace=True)\n",
        "\n",
        "#Renombrar columnas modificadas por el join (\"_x\"):\n",
        "df_clas = df_clas.rename(columns={'Cuenta_x':'Cuenta',\n",
        "                                   'Nmb_Cuenta_x':'Nmb_Cuenta'})\n",
        "\n",
        "#2da Agrupación\n",
        "#Textos en minúsculas para hacer join:\n",
        "df_aux_txt['Texto cab.documento_minusc']=df_aux_txt['Texto cab.documento'].str.lower()\n",
        "df_clas['Texto cab.documento_minusc']=df_clas['Texto cab.documento'].str.lower()\n",
        "df_aux_txt['Texto_minusc']=df_aux_txt['Texto'].str.lower()\n",
        "df_clas['Texto_minusc']=df_clas['Texto'].str.lower()\n",
        "\n",
        "#Agrupar dataframe con clasificación por Texto:\n",
        "df_clas_2 = df_clas.merge(df_aux_txt, how='left', on=['Texto_minusc', 'Cuenta', 'Nº documento', 'Texto cab.documento_minusc'])\n",
        "\n",
        "#Agrupar clasificaciones:\n",
        "df_clas_2['Clasificación_N1']=df_clas_2['Clasificación_N1_x'].fillna('')+df_clas_2['Clasificación_N1_y'].fillna('')\n",
        "df_clas_2['Clasificación_N2']=df_clas_2['Clasificación_N2_x'].fillna('')+df_clas_2['Clasificación_N2_y'].fillna('')\n",
        "\n",
        "#Eliminar columnas duplicadas por el join:\n",
        "df_clas_2.drop(['KEY','Clasificación_N1_x', 'Clasificación_N2_x',\n",
        "                'Clasificación_N1_y', 'Clasificación_N2_y',\n",
        "                'Texto cab.documento_minusc', 'Texto_minusc',\n",
        "                'Texto cab.documento_y', 'Texto_y'\n",
        "                ], axis=1, inplace=True)\n",
        "\n",
        "#Renombrar columnas modificadas por el join (\"_x\"):\n",
        "df_clas_2 = df_clas_2.rename(columns={'Texto cab.documento_x':'Texto cab.documento',\n",
        "                                   'Texto_x':'Texto'})\n",
        "\n",
        "#3ra Agrupación\n",
        "#Agregar datos de los Cecos al dataframe:\n",
        "df_clas_3 = df_clas_2.merge(df_aux_ceco, how='left', left_on='Centro de coste', right_on='CeCo')\n",
        "\n",
        "#Eliminar columnas duplicadas por el join:\n",
        "df_clas_3.drop(['CeCo'], axis=1, inplace=True)\n",
        "\n",
        "#Agregar Ceco_TI\n",
        "df_clas_3['Ceco_TI'] = ['GTI' if s=='GTI' else 'Otro' for s in df_clas_3['Subgerencia']]\n",
        "\n",
        "#Agregar columna Tipo = Real 2023\n",
        "df_clas_3['Tipo'] = 'Real-2023'"
      ],
      "metadata": {
        "id": "eszRS1raIkwd"
      },
      "execution_count": 494,
      "outputs": []
    },
    {
      "cell_type": "code",
      "source": [
        "df_clas_2['Cuenta'].unique()"
      ],
      "metadata": {
        "colab": {
          "base_uri": "https://localhost:8080/"
        },
        "id": "IetkCZyG7OCj",
        "outputId": "0d4aa4a5-d650-4173-cfbe-a98d46c2ffcb"
      },
      "execution_count": 268,
      "outputs": [
        {
          "output_type": "execute_result",
          "data": {
            "text/plain": [
              "array([31112701., 31112702., 31112703., 31112704., 31112705., 31112710.,\n",
              "       31112711., 31112712.])"
            ]
          },
          "metadata": {},
          "execution_count": 268
        }
      ]
    },
    {
      "cell_type": "code",
      "source": [
        "df_clas_2['Período contable'].unique()"
      ],
      "metadata": {
        "colab": {
          "base_uri": "https://localhost:8080/"
        },
        "id": "7EJOkiF6_jRI",
        "outputId": "aabcbd37-e557-4c25-fb7b-f29cc0eb7b5c"
      },
      "execution_count": 106,
      "outputs": [
        {
          "output_type": "execute_result",
          "data": {
            "text/plain": [
              "array([1., 2., 3., 4., 5., 6., 7., 8., 9.])"
            ]
          },
          "metadata": {},
          "execution_count": 106
        }
      ]
    },
    {
      "cell_type": "code",
      "source": [
        "df_clas_3.columns"
      ],
      "metadata": {
        "colab": {
          "base_uri": "https://localhost:8080/"
        },
        "id": "snitiP8kdQF8",
        "outputId": "454ac967-c870-4069-cce5-15049aa67209"
      },
      "execution_count": 335,
      "outputs": [
        {
          "output_type": "execute_result",
          "data": {
            "text/plain": [
              "Index(['Período contable', 'Texto cab.documento', 'Texto', 'Cuenta',\n",
              "       'Importe en moneda local', 'Moneda local', 'Centro de coste',\n",
              "       'Referencia', 'Material', 'Nombre del usuario', 'Nº documento',\n",
              "       'Fecha de documento', 'Fe.contabilización', 'Importe en ML3',\n",
              "       'Clase de documento', 'Orden', 'Sociedad', 'Documento compras', 'Grafo',\n",
              "       'Elemento PEP', 'Importe libro mayor', 'Moneda libro mayor',\n",
              "       'Tp.cambio efectivo', 'Posición', 'Ejercicio / mes',\n",
              "       'Clave contabiliz.', 'Nmb_Cuenta', 'Clasificación_N1',\n",
              "       'Clasificación_N2', 'Gerencia', 'Subgerencia', 'Nombre CeCo',\n",
              "       'GrupoCeCo', 'Area', 'Dependencia'],\n",
              "      dtype='object')"
            ]
          },
          "metadata": {},
          "execution_count": 335
        }
      ]
    },
    {
      "cell_type": "markdown",
      "source": [
        "#**Exportar archivo**#"
      ],
      "metadata": {
        "id": "oePqzwyIYSeJ"
      }
    },
    {
      "cell_type": "code",
      "source": [
        "#Definir dataframe final:\n",
        "df_final = df_clas_3\n",
        "\n",
        "#Nombre del archivo de salida:\n",
        "nmb_output = nmb_input.replace('Cuentas TI','Gastos TI')\n",
        "\n",
        "#Extraer archivo a excel\n",
        "df_final.to_excel(nmb_output, index=False)"
      ],
      "metadata": {
        "id": "wWpFvPRw-Khs"
      },
      "execution_count": 496,
      "outputs": []
    },
    {
      "cell_type": "markdown",
      "source": [
        "#**Ayuda**"
      ],
      "metadata": {
        "id": "oMyn4UDVQeKR"
      }
    },
    {
      "cell_type": "code",
      "source": [
        "#Buscar un gasto:\n",
        "df_final.loc[df_final['Nº documento']==119353799].head(1)\n",
        "#df_aux_txt.loc[df_final['Nº documento']==119353799].head(1)"
      ],
      "metadata": {
        "colab": {
          "base_uri": "https://localhost:8080/",
          "height": 217
        },
        "id": "n8VLZzKlc0Cu",
        "outputId": "3c6b7e0e-6368-4eb9-9ea3-6f7d4c474070"
      },
      "execution_count": 286,
      "outputs": [
        {
          "output_type": "execute_result",
          "data": {
            "text/plain": [
              "    Período contable Texto cab.documento_x                     Texto_x  \\\n",
              "42               8.0                   GTI  Provision Leasing Notebook   \n",
              "\n",
              "        Cuenta  Importe en moneda local Moneda local  Centro de coste  \\\n",
              "42  31112701.0                    52691          CLP          11000.0   \n",
              "\n",
              "       Referencia  Material Nombre del usuario  ...  Moneda libro mayor  \\\n",
              "42  JOAQUIN DANUS       NaN             RROJAS  ...                 CLP   \n",
              "\n",
              "   Tp.cambio efectivo Posición  Ejercicio / mes Clave contabiliz.  \\\n",
              "42            1,00000      3.0          2023/08              40.0   \n",
              "\n",
              "         Nmb_Cuenta  Texto cab.documento_y  Texto_y  Clasificación_N1  \\\n",
              "42  Leasing Equipos                    NaN      NaN                     \n",
              "\n",
              "   Clasificación_N2  \n",
              "42                   \n",
              "\n",
              "[1 rows x 31 columns]"
            ],
            "text/html": [
              "\n",
              "  <div id=\"df-95b77c6e-d1d4-437a-b897-3349197f9295\" class=\"colab-df-container\">\n",
              "    <div>\n",
              "<style scoped>\n",
              "    .dataframe tbody tr th:only-of-type {\n",
              "        vertical-align: middle;\n",
              "    }\n",
              "\n",
              "    .dataframe tbody tr th {\n",
              "        vertical-align: top;\n",
              "    }\n",
              "\n",
              "    .dataframe thead th {\n",
              "        text-align: right;\n",
              "    }\n",
              "</style>\n",
              "<table border=\"1\" class=\"dataframe\">\n",
              "  <thead>\n",
              "    <tr style=\"text-align: right;\">\n",
              "      <th></th>\n",
              "      <th>Período contable</th>\n",
              "      <th>Texto cab.documento_x</th>\n",
              "      <th>Texto_x</th>\n",
              "      <th>Cuenta</th>\n",
              "      <th>Importe en moneda local</th>\n",
              "      <th>Moneda local</th>\n",
              "      <th>Centro de coste</th>\n",
              "      <th>Referencia</th>\n",
              "      <th>Material</th>\n",
              "      <th>Nombre del usuario</th>\n",
              "      <th>...</th>\n",
              "      <th>Moneda libro mayor</th>\n",
              "      <th>Tp.cambio efectivo</th>\n",
              "      <th>Posición</th>\n",
              "      <th>Ejercicio / mes</th>\n",
              "      <th>Clave contabiliz.</th>\n",
              "      <th>Nmb_Cuenta</th>\n",
              "      <th>Texto cab.documento_y</th>\n",
              "      <th>Texto_y</th>\n",
              "      <th>Clasificación_N1</th>\n",
              "      <th>Clasificación_N2</th>\n",
              "    </tr>\n",
              "  </thead>\n",
              "  <tbody>\n",
              "    <tr>\n",
              "      <th>42</th>\n",
              "      <td>8.0</td>\n",
              "      <td>GTI</td>\n",
              "      <td>Provision Leasing Notebook</td>\n",
              "      <td>31112701.0</td>\n",
              "      <td>52691</td>\n",
              "      <td>CLP</td>\n",
              "      <td>11000.0</td>\n",
              "      <td>JOAQUIN DANUS</td>\n",
              "      <td>NaN</td>\n",
              "      <td>RROJAS</td>\n",
              "      <td>...</td>\n",
              "      <td>CLP</td>\n",
              "      <td>1,00000</td>\n",
              "      <td>3.0</td>\n",
              "      <td>2023/08</td>\n",
              "      <td>40.0</td>\n",
              "      <td>Leasing Equipos</td>\n",
              "      <td>NaN</td>\n",
              "      <td>NaN</td>\n",
              "      <td></td>\n",
              "      <td></td>\n",
              "    </tr>\n",
              "  </tbody>\n",
              "</table>\n",
              "<p>1 rows × 31 columns</p>\n",
              "</div>\n",
              "    <div class=\"colab-df-buttons\">\n",
              "\n",
              "  <div class=\"colab-df-container\">\n",
              "    <button class=\"colab-df-convert\" onclick=\"convertToInteractive('df-95b77c6e-d1d4-437a-b897-3349197f9295')\"\n",
              "            title=\"Convert this dataframe to an interactive table.\"\n",
              "            style=\"display:none;\">\n",
              "\n",
              "  <svg xmlns=\"http://www.w3.org/2000/svg\" height=\"24px\" viewBox=\"0 -960 960 960\">\n",
              "    <path d=\"M120-120v-720h720v720H120Zm60-500h600v-160H180v160Zm220 220h160v-160H400v160Zm0 220h160v-160H400v160ZM180-400h160v-160H180v160Zm440 0h160v-160H620v160ZM180-180h160v-160H180v160Zm440 0h160v-160H620v160Z\"/>\n",
              "  </svg>\n",
              "    </button>\n",
              "\n",
              "  <style>\n",
              "    .colab-df-container {\n",
              "      display:flex;\n",
              "      gap: 12px;\n",
              "    }\n",
              "\n",
              "    .colab-df-convert {\n",
              "      background-color: #E8F0FE;\n",
              "      border: none;\n",
              "      border-radius: 50%;\n",
              "      cursor: pointer;\n",
              "      display: none;\n",
              "      fill: #1967D2;\n",
              "      height: 32px;\n",
              "      padding: 0 0 0 0;\n",
              "      width: 32px;\n",
              "    }\n",
              "\n",
              "    .colab-df-convert:hover {\n",
              "      background-color: #E2EBFA;\n",
              "      box-shadow: 0px 1px 2px rgba(60, 64, 67, 0.3), 0px 1px 3px 1px rgba(60, 64, 67, 0.15);\n",
              "      fill: #174EA6;\n",
              "    }\n",
              "\n",
              "    .colab-df-buttons div {\n",
              "      margin-bottom: 4px;\n",
              "    }\n",
              "\n",
              "    [theme=dark] .colab-df-convert {\n",
              "      background-color: #3B4455;\n",
              "      fill: #D2E3FC;\n",
              "    }\n",
              "\n",
              "    [theme=dark] .colab-df-convert:hover {\n",
              "      background-color: #434B5C;\n",
              "      box-shadow: 0px 1px 3px 1px rgba(0, 0, 0, 0.15);\n",
              "      filter: drop-shadow(0px 1px 2px rgba(0, 0, 0, 0.3));\n",
              "      fill: #FFFFFF;\n",
              "    }\n",
              "  </style>\n",
              "\n",
              "    <script>\n",
              "      const buttonEl =\n",
              "        document.querySelector('#df-95b77c6e-d1d4-437a-b897-3349197f9295 button.colab-df-convert');\n",
              "      buttonEl.style.display =\n",
              "        google.colab.kernel.accessAllowed ? 'block' : 'none';\n",
              "\n",
              "      async function convertToInteractive(key) {\n",
              "        const element = document.querySelector('#df-95b77c6e-d1d4-437a-b897-3349197f9295');\n",
              "        const dataTable =\n",
              "          await google.colab.kernel.invokeFunction('convertToInteractive',\n",
              "                                                    [key], {});\n",
              "        if (!dataTable) return;\n",
              "\n",
              "        const docLinkHtml = 'Like what you see? Visit the ' +\n",
              "          '<a target=\"_blank\" href=https://colab.research.google.com/notebooks/data_table.ipynb>data table notebook</a>'\n",
              "          + ' to learn more about interactive tables.';\n",
              "        element.innerHTML = '';\n",
              "        dataTable['output_type'] = 'display_data';\n",
              "        await google.colab.output.renderOutput(dataTable, element);\n",
              "        const docLink = document.createElement('div');\n",
              "        docLink.innerHTML = docLinkHtml;\n",
              "        element.appendChild(docLink);\n",
              "      }\n",
              "    </script>\n",
              "  </div>\n",
              "\n",
              "    </div>\n",
              "  </div>\n"
            ]
          },
          "metadata": {},
          "execution_count": 286
        }
      ]
    },
    {
      "cell_type": "code",
      "source": [
        "#Agrupar datos\n",
        "df_2705['Importe en moneda local'].groupby(by=df_2705['Período contable']).count()"
      ],
      "metadata": {
        "id": "Ou29hOhlHR05",
        "outputId": "fca79d33-c674-44b4-f18f-024899ed22c9",
        "colab": {
          "base_uri": "https://localhost:8080/"
        }
      },
      "execution_count": 396,
      "outputs": [
        {
          "output_type": "execute_result",
          "data": {
            "text/plain": [
              "Período contable\n",
              "1.0     1083\n",
              "2.0     1115\n",
              "3.0     1597\n",
              "4.0      877\n",
              "5.0     1258\n",
              "6.0      980\n",
              "7.0      973\n",
              "8.0      917\n",
              "9.0      729\n",
              "10.0      34\n",
              "Name: Importe en moneda local, dtype: int64"
            ]
          },
          "metadata": {},
          "execution_count": 396
        }
      ]
    }
  ]
}