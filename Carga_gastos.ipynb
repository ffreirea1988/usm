{
  "nbformat": 4,
  "nbformat_minor": 0,
  "metadata": {
    "colab": {
      "provenance": [],
      "authorship_tag": "ABX9TyNF4rg1BZMhHSN0db2Vc5AY",
      "include_colab_link": true
    },
    "kernelspec": {
      "name": "python3",
      "display_name": "Python 3"
    },
    "language_info": {
      "name": "python"
    }
  },
  "cells": [
    {
      "cell_type": "markdown",
      "metadata": {
        "id": "view-in-github",
        "colab_type": "text"
      },
      "source": [
        "<a href=\"https://colab.research.google.com/github/ffreirea1988/usm/blob/pega/Carga_gastos.ipynb\" target=\"_parent\"><img src=\"https://colab.research.google.com/assets/colab-badge.svg\" alt=\"Open In Colab\"/></a>"
      ]
    },
    {
      "cell_type": "code",
      "execution_count": 14,
      "metadata": {
        "id": "1mI38rdNPu8r"
      },
      "outputs": [],
      "source": [
        "import pandas as pd\n",
        "import numpy as np\n",
        "import matplotlib.pyplot as plt\n",
        "import seaborn as sns"
      ]
    },
    {
      "cell_type": "code",
      "source": [
        "#Nombre del archivo (se modifica mes a mes)\n",
        "nmb_input = 'Cuentas TI - 092023 - Septiembre 2023.xlsx'"
      ],
      "metadata": {
        "id": "kwzABEKAku10"
      },
      "execution_count": 2,
      "outputs": []
    },
    {
      "cell_type": "code",
      "source": [
        "#Mes de cierre\n",
        "mes = 9"
      ],
      "metadata": {
        "id": "3pg-R-XC_ZJ7"
      },
      "execution_count": 35,
      "outputs": []
    },
    {
      "cell_type": "code",
      "source": [
        "df_2701 = pd.read_excel(f'/content/{nmb_input}', sheet_name='31112701')\n",
        "df_2702 = pd.read_excel(f'/content/{nmb_input}', sheet_name='31112702')\n",
        "df_2703 = pd.read_excel(f'/content/{nmb_input}', sheet_name='31112703')\n",
        "df_2704 = pd.read_excel(f'/content/{nmb_input}', sheet_name='31112704')\n",
        "df_2705 = pd.read_excel(f'/content/{nmb_input}', sheet_name='31112705')\n",
        "df_2710 = pd.read_excel(f'/content/{nmb_input}', sheet_name='31112710')\n",
        "df_2711 = pd.read_excel(f'/content/{nmb_input}', sheet_name='31112711')\n",
        "df_2712 = pd.read_excel(f'/content/{nmb_input}', sheet_name='31112712')"
      ],
      "metadata": {
        "id": "mGiuBhQVQQb_"
      },
      "execution_count": 3,
      "outputs": []
    },
    {
      "cell_type": "code",
      "source": [
        "#Eliminar la última fila de cada tabla (n=1)\n",
        "n=1\n",
        "df_2701.drop(df_2701.tail(n).index, inplace = True)\n",
        "df_2702.drop(df_2702.tail(n).index, inplace = True)\n",
        "df_2703.drop(df_2703.tail(n).index, inplace = True)\n",
        "df_2704.drop(df_2704.tail(n).index, inplace = True)\n",
        "df_2705.drop(df_2705.tail(n).index, inplace = True)\n",
        "df_2710.drop(df_2710.tail(n).index, inplace = True)\n",
        "df_2711.drop(df_2711.tail(n).index, inplace = True)\n",
        "df_2712.drop(df_2712.tail(n).index, inplace = True)\n"
      ],
      "metadata": {
        "id": "BmIkhT9H8QgJ"
      },
      "execution_count": 4,
      "outputs": []
    },
    {
      "cell_type": "code",
      "source": [
        "#Concatenar archivos en un solo dataframe con todas las cuentas\n",
        "#axis=1 unir por filas\n",
        "#axis=0 unir por columnas\n",
        "df = pd.concat([df_2701, df_2702, df_2703, df_2704, df_2705, df_2710, df_2711, df_2712], axis=0)"
      ],
      "metadata": {
        "id": "z8PDd4U5QXJv"
      },
      "execution_count": 5,
      "outputs": []
    },
    {
      "cell_type": "code",
      "source": [
        "#Eliminar mes no cerrado:\n",
        "df.drop(df[(df['Período contable'] > mes)].index, inplace=True)"
      ],
      "metadata": {
        "id": "vJGSCHOE_AX4"
      },
      "execution_count": 36,
      "outputs": []
    },
    {
      "cell_type": "code",
      "source": [
        "#Revisar columnas\n",
        "df.columns"
      ],
      "metadata": {
        "colab": {
          "base_uri": "https://localhost:8080/"
        },
        "id": "C5Owe5wFsu8O",
        "outputId": "2e03f96d-c575-4453-829f-3999da7aa351"
      },
      "execution_count": 6,
      "outputs": [
        {
          "output_type": "execute_result",
          "data": {
            "text/plain": [
              "Index(['Período contable', 'Texto cab.documento', 'Texto', 'Cuenta',\n",
              "       'Importe en moneda local', 'Moneda local', 'Centro de coste',\n",
              "       'Referencia', 'Material', 'Nombre del usuario', 'Nº documento',\n",
              "       'Fecha de documento', 'Fe.contabilización', 'Importe en ML3',\n",
              "       'Clase de documento', 'Orden', 'Sociedad', 'Documento compras', 'Grafo',\n",
              "       'Elemento PEP', 'Importe libro mayor', 'Moneda libro mayor',\n",
              "       'Tp.cambio efectivo', 'Posición', 'Ejercicio / mes',\n",
              "       'Clave contabiliz.'],\n",
              "      dtype='object')"
            ]
          },
          "metadata": {},
          "execution_count": 6
        }
      ]
    },
    {
      "cell_type": "code",
      "source": [
        "df['Cuenta'].unique()"
      ],
      "metadata": {
        "colab": {
          "base_uri": "https://localhost:8080/"
        },
        "id": "IetkCZyG7OCj",
        "outputId": "3f83276b-8ff0-492c-9df0-1987f57ff3b2"
      },
      "execution_count": 10,
      "outputs": [
        {
          "output_type": "execute_result",
          "data": {
            "text/plain": [
              "array([31112701., 31112702., 31112703., 31112704., 31112705., 31112710.,\n",
              "       31112711., 31112712.])"
            ]
          },
          "metadata": {},
          "execution_count": 10
        }
      ]
    },
    {
      "cell_type": "code",
      "source": [
        "df['Período contable'].unique()"
      ],
      "metadata": {
        "colab": {
          "base_uri": "https://localhost:8080/"
        },
        "id": "7EJOkiF6_jRI",
        "outputId": "bfac675b-6a17-4e9b-9baa-e34c915de7a5"
      },
      "execution_count": 37,
      "outputs": [
        {
          "output_type": "execute_result",
          "data": {
            "text/plain": [
              "array([1., 2., 3., 4., 5., 6., 7., 8., 9.])"
            ]
          },
          "metadata": {},
          "execution_count": 37
        }
      ]
    },
    {
      "cell_type": "code",
      "source": [
        "print(df.shape)\n",
        "df.isnull().sum()\n",
        "#df.dtypes"
      ],
      "metadata": {
        "colab": {
          "base_uri": "https://localhost:8080/"
        },
        "id": "J_7kUdG577y0",
        "outputId": "ba52e5b7-c068-4a03-f189-40a05cf9d252"
      },
      "execution_count": 34,
      "outputs": [
        {
          "output_type": "stream",
          "name": "stdout",
          "text": [
            "(26197, 27)\n"
          ]
        },
        {
          "output_type": "execute_result",
          "data": {
            "text/plain": [
              "Período contable               0\n",
              "Texto cab.documento           13\n",
              "Texto                       1125\n",
              "Cuenta                         0\n",
              "Importe en moneda local        0\n",
              "Moneda local                   0\n",
              "Centro de coste               26\n",
              "Referencia                  9660\n",
              "Material                   26196\n",
              "Nombre del usuario             0\n",
              "Nº documento                   0\n",
              "Fecha de documento             0\n",
              "Fe.contabilización             0\n",
              "Importe en ML3                 0\n",
              "Clase de documento             0\n",
              "Orden                      26197\n",
              "Sociedad                       0\n",
              "Documento compras          21983\n",
              "Grafo                      26197\n",
              "Elemento PEP               26171\n",
              "Importe libro mayor            0\n",
              "Moneda libro mayor             0\n",
              "Tp.cambio efectivo            86\n",
              "Posición                       0\n",
              "Ejercicio / mes                0\n",
              "Clave contabiliz.              0\n",
              "Nmb_Cuenta                     0\n",
              "dtype: int64"
            ]
          },
          "metadata": {},
          "execution_count": 34
        }
      ]
    },
    {
      "cell_type": "code",
      "source": [
        "#Agregar nombre de cuentas:\n",
        "df['Nmb_Cuenta'] = df['Cuenta'].replace({\n",
        "        31112701:'Leasing Equipos',\n",
        "        31112702:'Evolutivos y Correctivos',\n",
        "        31112703:'Redes',\n",
        "        31112704:'Data Center',\n",
        "        31112705:'Licencias De Software',\n",
        "        31112710:'Soporte Operacional',\n",
        "        31112711:'Evolutivos Mayores',\n",
        "        31112712:'Soporte de Sistemas'\n",
        "        })"
      ],
      "metadata": {
        "id": "kl9jnzPr9NMp"
      },
      "execution_count": 21,
      "outputs": []
    },
    {
      "cell_type": "code",
      "source": [
        "#Nombre del archivo de salida:\n",
        "nmb_output = nmb_input.replace('Cuentas TI','Gastos TI')"
      ],
      "metadata": {
        "id": "NsSXZFcHoxB9"
      },
      "execution_count": 9,
      "outputs": []
    },
    {
      "cell_type": "code",
      "source": [
        "#Extraer archivo a excel\n",
        "df.to_excel(nmb_output, index=False)"
      ],
      "metadata": {
        "id": "wWpFvPRw-Khs"
      },
      "execution_count": null,
      "outputs": []
    }
  ]
}