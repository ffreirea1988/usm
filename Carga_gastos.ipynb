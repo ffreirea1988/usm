{
  "nbformat": 4,
  "nbformat_minor": 0,
  "metadata": {
    "colab": {
      "provenance": [],
      "authorship_tag": "ABX9TyMxeP3BT6kbZcw38LX5s0dp",
      "include_colab_link": true
    },
    "kernelspec": {
      "name": "python3",
      "display_name": "Python 3"
    },
    "language_info": {
      "name": "python"
    }
  },
  "cells": [
    {
      "cell_type": "markdown",
      "metadata": {
        "id": "view-in-github",
        "colab_type": "text"
      },
      "source": [
        "<a href=\"https://colab.research.google.com/github/ffreirea1988/usm/blob/pega/Carga_gastos.ipynb\" target=\"_parent\"><img src=\"https://colab.research.google.com/assets/colab-badge.svg\" alt=\"Open In Colab\"/></a>"
      ]
    },
    {
      "cell_type": "code",
      "execution_count": null,
      "metadata": {
        "id": "1mI38rdNPu8r"
      },
      "outputs": [],
      "source": [
        "import pandas as pd\n",
        "import matplotlib.pyplot as plt\n",
        "import seaborn as sns"
      ]
    },
    {
      "cell_type": "code",
      "source": [
        "#Nombre del archivo (se modifica mes a mes)\n",
        "nmb_input = 'Cuentas TI - 092023 - Septiembre 2023.xlsx'"
      ],
      "metadata": {
        "id": "kwzABEKAku10"
      },
      "execution_count": null,
      "outputs": []
    },
    {
      "cell_type": "code",
      "source": [
        "df_2701 = pd.read_excel(f'/content/{nmb_input}', sheet_name='31112701')\n",
        "df_2702 = pd.read_excel(f'/content/{nmb_input}', sheet_name='31112702')\n",
        "df_2703 = pd.read_excel(f'/content/{nmb_input}', sheet_name='31112703')\n",
        "df_2704 = pd.read_excel(f'/content/{nmb_input}', sheet_name='31112704')\n",
        "df_2705 = pd.read_excel(f'/content/{nmb_input}', sheet_name='31112705')\n",
        "df_2710 = pd.read_excel(f'/content/{nmb_input}', sheet_name='31112710')\n",
        "df_2711 = pd.read_excel(f'/content/{nmb_input}', sheet_name='31112711')\n",
        "df_2712 = pd.read_excel(f'/content/{nmb_input}', sheet_name='31112712')"
      ],
      "metadata": {
        "id": "mGiuBhQVQQb_"
      },
      "execution_count": null,
      "outputs": []
    },
    {
      "cell_type": "code",
      "source": [
        "#Concatenar archivos en un solo dataframe con todas las cuentas\n",
        "#axis=1 unir por filas\n",
        "#axis=0 unir por columnas\n",
        "df = pd.concat([df_2701, df_2702, df_2703, df_2704, df_2705, df_2710, df_2711, df_2712], axis=0)"
      ],
      "metadata": {
        "id": "z8PDd4U5QXJv"
      },
      "execution_count": null,
      "outputs": []
    }
  ]
}