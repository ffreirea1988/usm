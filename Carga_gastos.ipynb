{
  "nbformat": 4,
  "nbformat_minor": 0,
  "metadata": {
    "colab": {
      "provenance": [],
      "authorship_tag": "ABX9TyOvFw5fXBH/O66jNFrAyasu",
      "include_colab_link": true
    },
    "kernelspec": {
      "name": "python3",
      "display_name": "Python 3"
    },
    "language_info": {
      "name": "python"
    }
  },
  "cells": [
    {
      "cell_type": "markdown",
      "metadata": {
        "id": "view-in-github",
        "colab_type": "text"
      },
      "source": [
        "<a href=\"https://colab.research.google.com/github/ffreirea1988/usm/blob/pega/Carga_gastos.ipynb\" target=\"_parent\"><img src=\"https://colab.research.google.com/assets/colab-badge.svg\" alt=\"Open In Colab\"/></a>"
      ]
    },
    {
      "cell_type": "code",
      "execution_count": 1,
      "metadata": {
        "id": "1mI38rdNPu8r"
      },
      "outputs": [],
      "source": [
        "import pandas as pd\n",
        "import matplotlib.pyplot as plt\n",
        "import seaborn as sns"
      ]
    },
    {
      "cell_type": "code",
      "source": [
        "#Nombre del archivo (se modifica mes a mes)\n",
        "nmb_input = 'Cuentas TI - 092023 - Septiembre 2023.xlsx'"
      ],
      "metadata": {
        "id": "kwzABEKAku10"
      },
      "execution_count": 2,
      "outputs": []
    },
    {
      "cell_type": "code",
      "source": [
        "df_2701 = pd.read_excel(f'/content/{nmb_input}', sheet_name='31112701')\n",
        "df_2702 = pd.read_excel(f'/content/{nmb_input}', sheet_name='31112702')\n",
        "df_2703 = pd.read_excel(f'/content/{nmb_input}', sheet_name='31112703')\n",
        "df_2704 = pd.read_excel(f'/content/{nmb_input}', sheet_name='31112704')\n",
        "df_2705 = pd.read_excel(f'/content/{nmb_input}', sheet_name='31112705')\n",
        "df_2710 = pd.read_excel(f'/content/{nmb_input}', sheet_name='31112710')\n",
        "df_2711 = pd.read_excel(f'/content/{nmb_input}', sheet_name='31112711')\n",
        "df_2712 = pd.read_excel(f'/content/{nmb_input}', sheet_name='31112712')"
      ],
      "metadata": {
        "id": "mGiuBhQVQQb_"
      },
      "execution_count": 3,
      "outputs": []
    },
    {
      "cell_type": "code",
      "source": [
        "#Eliminar la última fila de cada tabla (n=1)\n",
        "n=1\n",
        "df_2701.drop(df_2701.tail(n).index, inplace = True)\n",
        "df_2702.drop(df_2702.tail(n).index, inplace = True)\n",
        "df_2703.drop(df_2703.tail(n).index, inplace = True)\n",
        "df_2704.drop(df_2704.tail(n).index, inplace = True)\n",
        "df_2705.drop(df_2705.tail(n).index, inplace = True)\n",
        "df_2710.drop(df_2710.tail(n).index, inplace = True)\n",
        "df_2711.drop(df_2711.tail(n).index, inplace = True)\n",
        "df_2712.drop(df_2712.tail(n).index, inplace = True)\n"
      ],
      "metadata": {
        "id": "BmIkhT9H8QgJ"
      },
      "execution_count": 29,
      "outputs": []
    },
    {
      "cell_type": "code",
      "source": [
        "#Concatenar archivos en un solo dataframe con todas las cuentas\n",
        "#axis=1 unir por filas\n",
        "#axis=0 unir por columnas\n",
        "df = pd.concat([df_2701, df_2702, df_2703, df_2704, df_2705, df_2710, df_2711, df_2712], axis=0)"
      ],
      "metadata": {
        "id": "z8PDd4U5QXJv"
      },
      "execution_count": 30,
      "outputs": []
    },
    {
      "cell_type": "code",
      "source": [
        "df.columns"
      ],
      "metadata": {
        "colab": {
          "base_uri": "https://localhost:8080/"
        },
        "id": "C5Owe5wFsu8O",
        "outputId": "181a9cc0-577d-4200-8e9a-42662ae2730a"
      },
      "execution_count": 19,
      "outputs": [
        {
          "output_type": "execute_result",
          "data": {
            "text/plain": [
              "Index(['Período contable', 'Texto cab.documento', 'Texto', 'Cuenta',\n",
              "       'Importe en moneda local', 'Moneda local', 'Centro de coste',\n",
              "       'Referencia', 'Material', 'Nombre del usuario', 'Nº documento',\n",
              "       'Fecha de documento', 'Fe.contabilización', 'Importe en ML3',\n",
              "       'Clase de documento', 'Orden', 'Sociedad', 'Documento compras', 'Grafo',\n",
              "       'Elemento PEP', 'Importe libro mayor', 'Moneda libro mayor',\n",
              "       'Tp.cambio efectivo', 'Posición', 'Ejercicio / mes',\n",
              "       'Clave contabiliz.'],\n",
              "      dtype='object')"
            ]
          },
          "metadata": {},
          "execution_count": 19
        }
      ]
    },
    {
      "cell_type": "code",
      "source": [
        "nmb_output = nmb_input.replace('Cuentas TI','Gastos TI')"
      ],
      "metadata": {
        "id": "NsSXZFcHoxB9"
      },
      "execution_count": 5,
      "outputs": []
    },
    {
      "cell_type": "code",
      "source": [
        "df.to_excel(nmb_output, index=False)"
      ],
      "metadata": {
        "id": "CI7spSCqpOZI"
      },
      "execution_count": null,
      "outputs": []
    }
  ]
}