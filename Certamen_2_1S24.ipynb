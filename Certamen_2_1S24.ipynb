{
  "nbformat": 4,
  "nbformat_minor": 0,
  "metadata": {
    "colab": {
      "provenance": [],
      "authorship_tag": "ABX9TyN80NnS32zYrjtCMpkfzc7x",
      "include_colab_link": true
    },
    "kernelspec": {
      "name": "python3",
      "display_name": "Python 3"
    },
    "language_info": {
      "name": "python"
    }
  },
  "cells": [
    {
      "cell_type": "markdown",
      "metadata": {
        "id": "view-in-github",
        "colab_type": "text"
      },
      "source": [
        "<a href=\"https://colab.research.google.com/github/ffreirea1988/usm/blob/main/Certamen_2_1S24.ipynb\" target=\"_parent\"><img src=\"https://colab.research.google.com/assets/colab-badge.svg\" alt=\"Open In Colab\"/></a>"
      ]
    },
    {
      "cell_type": "markdown",
      "source": [
        "La viña **Casillero del Diablo** es una reconocida bodega que produce una amplia gama de vinos de alta calidad en la zona centro del país.\n",
        "Con el objetivo de mejorar la calidad del producto y optimizar el proceso de producción, la bodega ha decidido utilizar técnicas avanzadas de **machine learning** para clasificar sus variedades de vino.\n",
        "Así, para llevar a cabo este proyecto, se le pide a usted que realice un análisis del conjunto de datos *load_wine* de *sklearn*, que contiene información química y física sobre diferentes tipos de vino."
      ],
      "metadata": {
        "id": "K9DyQ25Ge7lk"
      }
    },
    {
      "cell_type": "markdown",
      "source": [
        "##Librerías a utilizar"
      ],
      "metadata": {
        "id": "nMisNGqFe1wm"
      }
    },
    {
      "cell_type": "code",
      "execution_count": 253,
      "metadata": {
        "id": "5jmuxzGQNmnA"
      },
      "outputs": [],
      "source": [
        "import numpy as np\n",
        "import matplotlib.pyplot as plt\n",
        "import pandas as pd\n",
        "\n",
        "from sklearn.cluster import KMeans\n",
        "from yellowbrick.cluster import KElbowVisualizer\n",
        "from sklearn.model_selection import train_test_split\n",
        "from sklearn.tree import DecisionTreeClassifier, plot_tree\n",
        "from sklearn.metrics import classification_report, confusion_matrix, accuracy_score\n",
        "from mlxtend.plotting import plot_confusion_matrix\n",
        "from sklearn import svm\n",
        "from sklearn.preprocessing import StandardScaler\n",
        "\n",
        "import warnings\n",
        "warnings.filterwarnings('ignore')"
      ]
    },
    {
      "cell_type": "markdown",
      "source": [
        "##Cargar el Dataset"
      ],
      "metadata": {
        "id": "IeVGJ4n_e4qf"
      }
    },
    {
      "cell_type": "code",
      "source": [
        "#Dataset certamen:\n",
        "from sklearn.datasets import load_wine\n",
        "data = load_wine()\n",
        "X, y = data.data, data.target"
      ],
      "metadata": {
        "id": "S0Q2V8l4NvBB"
      },
      "execution_count": 254,
      "outputs": []
    },
    {
      "cell_type": "markdown",
      "source": [
        "##Desarrollo Certamen"
      ],
      "metadata": {
        "id": "PRfEUPiEfxUQ"
      }
    },
    {
      "cell_type": "markdown",
      "source": [
        "1. Escale los datos asociados a las variables x **[5 ptos]**"
      ],
      "metadata": {
        "id": "2GVmJBXbf484"
      }
    },
    {
      "cell_type": "code",
      "source": [],
      "metadata": {
        "id": "kJaL71FsORo0"
      },
      "execution_count": 296,
      "outputs": []
    },
    {
      "cell_type": "markdown",
      "source": [
        "2. A través del método del codo, muestre gráficamente cuál es el número óptimo de clusters **[5 ptos]**"
      ],
      "metadata": {
        "id": "a6jFbO3BgDxU"
      }
    },
    {
      "cell_type": "code",
      "source": [],
      "metadata": {
        "id": "ju_h3oiDnZYo"
      },
      "execution_count": null,
      "outputs": []
    },
    {
      "cell_type": "markdown",
      "source": [
        "3. El gerente comercial le indica que para el análisis de sus productos, solo le interesa atacar 2 segmentos distintos de clientes basados en solo 2 clusters de vinos. Para esto, **defina y grafique** un modelo de K-Means con 2 clusters, considerando un máximo de 600 iteraciones (max_iter) y 10 iteraciones con centroides distintos (n_init) **[5 ptos]**"
      ],
      "metadata": {
        "id": "eFlUS_0ygSKj"
      }
    },
    {
      "cell_type": "code",
      "source": [],
      "metadata": {
        "id": "EVftpU4Ina87"
      },
      "execution_count": null,
      "outputs": []
    },
    {
      "cell_type": "markdown",
      "source": [
        "4. Pase el conjunto de datos a un dataframe, considerando las variables X escaladas. Luego, agregue la variable del cluster como etiqueta ***y*** llámandola \"Target\". Muestre finalmente las 5 primeras filas **[3 ptos]**"
      ],
      "metadata": {
        "id": "wRoGz7VMhRbc"
      }
    },
    {
      "cell_type": "code",
      "source": [],
      "metadata": {
        "id": "uQhuFgZmnehz"
      },
      "execution_count": null,
      "outputs": []
    },
    {
      "cell_type": "markdown",
      "source": [
        "5. Defina sus variables X (escaladas) y su variable a predecir Y (Target), para luego definir un set de entrenamiento y testeo con un 80% de entrenamiento **[2 ptos]**"
      ],
      "metadata": {
        "id": "opKNG41biJdp"
      }
    },
    {
      "cell_type": "code",
      "source": [],
      "metadata": {
        "id": "mhICK_PGngCU"
      },
      "execution_count": null,
      "outputs": []
    },
    {
      "cell_type": "markdown",
      "source": [
        "##Árboles de Decisión"
      ],
      "metadata": {
        "id": "tfNhJB5aaYkM"
      }
    },
    {
      "cell_type": "markdown",
      "source": [
        "6. Defina un modelo de Árboles de decisión con una función de división de entropía, una profundidad máxima de 2, un número mínimo de muestras de 3, una semilla = 5 y un criterio alpha para la poda de costos = 0.05 (ccp_alpha) **[2 ptos]**"
      ],
      "metadata": {
        "id": "RQL_F03Ui3yu"
      }
    },
    {
      "cell_type": "code",
      "source": [],
      "metadata": {
        "id": "GgrKsxQ1nhFd"
      },
      "execution_count": null,
      "outputs": []
    },
    {
      "cell_type": "markdown",
      "source": [
        "7. Entrene el modelo **[2 ptos]**"
      ],
      "metadata": {
        "id": "xXXqAZbfjw-s"
      }
    },
    {
      "cell_type": "code",
      "source": [],
      "metadata": {
        "id": "50qeJp0FniN5"
      },
      "execution_count": null,
      "outputs": []
    },
    {
      "cell_type": "markdown",
      "source": [
        "8. Grafique el árbol entrenado **[2 ptos]**"
      ],
      "metadata": {
        "id": "nVG6z5Vlj18v"
      }
    },
    {
      "cell_type": "code",
      "source": [],
      "metadata": {
        "id": "07EXXpq5nkLA"
      },
      "execution_count": null,
      "outputs": []
    },
    {
      "cell_type": "markdown",
      "source": [
        "9. Realice la predicción de Y, considerando el conjunto de testeo **[2 ptos]**"
      ],
      "metadata": {
        "id": "m3YgQwOuj7Kd"
      }
    },
    {
      "cell_type": "code",
      "source": [],
      "metadata": {
        "id": "2rYWX4dbnkiA"
      },
      "execution_count": null,
      "outputs": []
    },
    {
      "cell_type": "markdown",
      "source": [
        "10. Genere la matriz de confusión del modelo e indique cuál es su nivel de Precisión (Accuracy ) **[2 ptos]**"
      ],
      "metadata": {
        "id": "xJdxVsiLkGK6"
      }
    },
    {
      "cell_type": "code",
      "source": [],
      "metadata": {
        "id": "-0j66chnnmHF"
      },
      "execution_count": null,
      "outputs": []
    },
    {
      "cell_type": "markdown",
      "source": [
        "##Support Vector Machine"
      ],
      "metadata": {
        "id": "BOM8Xsx-aSVF"
      }
    },
    {
      "cell_type": "markdown",
      "source": [
        "11. Genere un modelo de Support Vector Machine, con un kernel polinomial, una semilla = 5 y un regularizador (C) = 0.75 **[2 ptos]**"
      ],
      "metadata": {
        "id": "GnJDDVkbkV-3"
      }
    },
    {
      "cell_type": "code",
      "source": [],
      "metadata": {
        "id": "XsF5dMO6nnLz"
      },
      "execution_count": null,
      "outputs": []
    },
    {
      "cell_type": "markdown",
      "source": [
        "12. Entrene el modelo **[2 ptos]**"
      ],
      "metadata": {
        "id": "VRYP-YV-lPHW"
      }
    },
    {
      "cell_type": "code",
      "source": [],
      "metadata": {
        "id": "zwl5Yhs4noTN"
      },
      "execution_count": null,
      "outputs": []
    },
    {
      "cell_type": "markdown",
      "source": [
        "13. Realice la predicción de Y, considerando el conjunto de testeo **[2 ptos]**"
      ],
      "metadata": {
        "id": "n3WAXUcZlXEp"
      }
    },
    {
      "cell_type": "code",
      "source": [],
      "metadata": {
        "id": "FadFvr31npNz"
      },
      "execution_count": null,
      "outputs": []
    },
    {
      "cell_type": "markdown",
      "source": [
        "14. Genere la matriz de confusión del modelo e indique cuál es su nivel de Precisión (Accuracy ) **[2 ptos]**"
      ],
      "metadata": {
        "id": "_A280yH1laAy"
      }
    },
    {
      "cell_type": "code",
      "source": [],
      "metadata": {
        "id": "I4rg2DEonqP8"
      },
      "execution_count": null,
      "outputs": []
    },
    {
      "cell_type": "markdown",
      "source": [
        "15. En una red neuronal, ¿cuántas neuronas de salida debe tener el modelo para predecir este mismo ejercicio? ¿Qué función de activación debiese tener? **[2 ptos]**"
      ],
      "metadata": {
        "id": "p6915id5l9_m"
      }
    },
    {
      "cell_type": "code",
      "source": [],
      "metadata": {
        "id": "BT4qDIeZnr0C"
      },
      "execution_count": null,
      "outputs": []
    }
  ]
}